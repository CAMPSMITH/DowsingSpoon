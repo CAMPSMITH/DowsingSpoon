{
  "nbformat": 4,
  "nbformat_minor": 0,
  "metadata": {
    "kernelspec": {
      "display_name": "Python 3",
      "language": "python",
      "name": "python3"
    },
    "language_info": {
      "codemirror_mode": {
        "name": "ipython",
        "version": 3
      },
      "file_extension": ".py",
      "mimetype": "text/x-python",
      "name": "python",
      "nbconvert_exporter": "python",
      "pygments_lexer": "ipython3",
      "version": "3.7.7"
    },
    "colab": {
      "name": "GC_venture_funding_with_deep_learning.ipynb",
      "provenance": [],
      "collapsed_sections": [
        "0q7pN2XKURsJ"
      ]
    },
    "accelerator": "TPU",
    "gpuClass": "standard"
  },
  "cells": [
    {
      "cell_type": "markdown",
      "metadata": {
        "id": "JmEcaJzVURr_"
      },
      "source": [
        "# Venture Funding with Deep Learning\n",
        "\n",
        "You work as a risk management associate at Alphabet Soup, a venture capital firm. Alphabet Soup’s business team receives many funding applications from startups every day. This team has asked you to help them create a model that predicts whether applicants will be successful if funded by Alphabet Soup.\n",
        "\n",
        "The business team has given you a CSV containing more than 34,000 organizations that have received funding from Alphabet Soup over the years. With your knowledge of machine learning and neural networks, you decide to use the features in the provided dataset to create a binary classifier model that will predict whether an applicant will become a successful business. The CSV file contains a variety of information about these businesses, including whether or not they ultimately became successful.\n",
        "\n",
        "## Instructions:\n",
        "\n",
        "The steps for this challenge are broken out into the following sections:\n",
        "\n",
        "* Prepare the data for use on a neural network model.\n",
        "\n",
        "* Compile and evaluate a binary classification model using a neural network.\n",
        "\n",
        "* Optimize the neural network model.\n",
        "\n",
        "### Prepare the Data for Use on a Neural Network Model \n",
        "\n",
        "Using your knowledge of Pandas and scikit-learn’s `StandardScaler()`, preprocess the dataset so that you can use it to compile and evaluate the neural network model later.\n",
        "\n",
        "Open the starter code file, and complete the following data preparation steps:\n",
        "\n",
        "1. Read the `applicants_data.csv` file into a Pandas DataFrame. Review the DataFrame, looking for categorical variables that will need to be encoded, as well as columns that could eventually define your features and target variables.   \n",
        "\n",
        "2. Drop the “EIN” (Employer Identification Number) and “NAME” columns from the DataFrame, because they are not relevant to the binary classification model.\n",
        " \n",
        "3. Encode the dataset’s categorical variables using `OneHotEncoder`, and then place the encoded variables into a new DataFrame.\n",
        "\n",
        "4. Add the original DataFrame’s numerical variables to the DataFrame containing the encoded variables.\n",
        "\n",
        "> **Note** To complete this step, you will employ the Pandas `concat()` function that was introduced earlier in this course. \n",
        "\n",
        "5. Using the preprocessed data, create the features (`X`) and target (`y`) datasets. The target dataset should be defined by the preprocessed DataFrame column “IS_SUCCESSFUL”. The remaining columns should define the features dataset. \n",
        "\n",
        "6. Split the features and target sets into training and testing datasets.\n",
        "\n",
        "7. Use scikit-learn's `StandardScaler` to scale the features data.\n",
        "\n",
        "### Compile and Evaluate a Binary Classification Model Using a Neural Network\n",
        "\n",
        "Use your knowledge of TensorFlow to design a binary classification deep neural network model. This model should use the dataset’s features to predict whether an Alphabet Soup&ndash;funded startup will be successful based on the features in the dataset. Consider the number of inputs before determining the number of layers that your model will contain or the number of neurons on each layer. Then, compile and fit your model. Finally, evaluate your binary classification model to calculate the model’s loss and accuracy. \n",
        " \n",
        "To do so, complete the following steps:\n",
        "\n",
        "1. Create a deep neural network by assigning the number of input features, the number of layers, and the number of neurons on each layer using Tensorflow’s Keras.\n",
        "\n",
        "> **Hint** You can start with a two-layer deep neural network model that uses the `relu` activation function for both layers.\n",
        "\n",
        "2. Compile and fit the model using the `binary_crossentropy` loss function, the `adam` optimizer, and the `accuracy` evaluation metric.\n",
        "\n",
        "> **Hint** When fitting the model, start with a small number of epochs, such as 20, 50, or 100.\n",
        "\n",
        "3. Evaluate the model using the test data to determine the model’s loss and accuracy.\n",
        "\n",
        "4. Save and export your model to an HDF5 file, and name the file `AlphabetSoup.h5`. \n",
        "\n",
        "### Optimize the Neural Network Model\n",
        "\n",
        "Using your knowledge of TensorFlow and Keras, optimize your model to improve the model's accuracy. Even if you do not successfully achieve a better accuracy, you'll need to demonstrate at least two attempts to optimize the model. You can include these attempts in your existing notebook. Or, you can make copies of the starter notebook in the same folder, rename them, and code each model optimization in a new notebook. \n",
        "\n",
        "> **Note** You will not lose points if your model does not achieve a high accuracy, as long as you make at least two attempts to optimize the model.\n",
        "\n",
        "To do so, complete the following steps:\n",
        "\n",
        "1. Define at least three new deep neural network models (the original plus 2 optimization attempts). With each, try to improve on your first model’s predictive accuracy.\n",
        "\n",
        "> **Rewind** Recall that perfect accuracy has a value of 1, so accuracy improves as its value moves closer to 1. To optimize your model for a predictive accuracy as close to 1 as possible, you can use any or all of the following techniques:\n",
        ">\n",
        "> * Adjust the input data by dropping different features columns to ensure that no variables or outliers confuse the model.\n",
        ">\n",
        "> * Add more neurons (nodes) to a hidden layer.\n",
        ">\n",
        "> * Add more hidden layers.\n",
        ">\n",
        "> * Use different activation functions for the hidden layers.\n",
        ">\n",
        "> * Add to or reduce the number of epochs in the training regimen.\n",
        "\n",
        "2. After finishing your models, display the accuracy scores achieved by each model, and compare the results.\n",
        "\n",
        "3. Save each of your models as an HDF5 file.\n"
      ]
    },
    {
      "cell_type": "code",
      "source": [
        "# from google.colab import drive\n",
        "# drive.mount('/content/drive')"
      ],
      "metadata": {
        "id": "mYumrK5OFhvN"
      },
      "execution_count": 3,
      "outputs": []
    },
    {
      "cell_type": "code",
      "metadata": {
        "id": "6XiL4BeyURsD"
      },
      "source": [
        "# Imports\n",
        "import pandas as pd\n",
        "import tensorflow as tf\n",
        "from tensorflow.keras.layers import Dense\n",
        "from tensorflow.keras.models import Sequential\n",
        "from sklearn.model_selection import train_test_split\n",
        "from sklearn.preprocessing import StandardScaler,OneHotEncoder"
      ],
      "execution_count": 4,
      "outputs": []
    },
    {
      "cell_type": "markdown",
      "metadata": {
        "id": "JzvfMq--URsD"
      },
      "source": [
        "---\n",
        "\n",
        "## Prepare the data to be used on a neural network model"
      ]
    },
    {
      "cell_type": "markdown",
      "metadata": {
        "id": "pJWhWy1zURsE"
      },
      "source": [
        "### Step 1: Read the `applicants_data.csv` file into a Pandas DataFrame. Review the DataFrame, looking for categorical variables that will need to be encoded, as well as columns that could eventually define your features and target variables.  \n"
      ]
    },
    {
      "cell_type": "code",
      "metadata": {
        "id": "5GsFRRuGU9r-",
        "colab": {
          "resources": {
            "http://localhost:8080/nbextensions/google.colab/files.js": {
              "data": "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",
              "ok": true,
              "headers": [
                [
                  "content-type",
                  "application/javascript"
                ]
              ],
              "status": 200,
              "status_text": ""
            }
          },
          "base_uri": "https://localhost:8080/",
          "height": 73
        },
        "outputId": "edf0cc13-d341-4888-c3f7-72a29321b456"
      },
      "source": [
        "# Upload credit_card_transactions.csv to Colab\n",
        "from google.colab import files\n",
        "\n",
        "csv_file = files.upload()"
      ],
      "execution_count": 5,
      "outputs": [
        {
          "output_type": "display_data",
          "data": {
            "text/plain": [
              "<IPython.core.display.HTML object>"
            ],
            "text/html": [
              "\n",
              "     <input type=\"file\" id=\"files-386927be-3c84-463a-a8f4-887df73f4914\" name=\"files[]\" multiple disabled\n",
              "        style=\"border:none\" />\n",
              "     <output id=\"result-386927be-3c84-463a-a8f4-887df73f4914\">\n",
              "      Upload widget is only available when the cell has been executed in the\n",
              "      current browser session. Please rerun this cell to enable.\n",
              "      </output>\n",
              "      <script src=\"/nbextensions/google.colab/files.js\"></script> "
            ]
          },
          "metadata": {}
        },
        {
          "output_type": "stream",
          "name": "stdout",
          "text": [
            "Saving applicants_data.csv to applicants_data (2).csv\n"
          ]
        }
      ]
    },
    {
      "cell_type": "code",
      "metadata": {
        "id": "gSTFDSzYURsE",
        "colab": {
          "base_uri": "https://localhost:8080/",
          "height": 496
        },
        "outputId": "7c9df62b-88ba-4e26-cf4f-edff840a266a"
      },
      "source": [
        "# Read the applicants_data.csv file from the Resources folder into a Pandas DataFrame\n",
        "applicant_data_df = pd.read_csv('applicants_data.csv')\n",
        "\n",
        "# Review the DataFrame\n",
        "applicant_data_df.head()"
      ],
      "execution_count": 6,
      "outputs": [
        {
          "output_type": "execute_result",
          "data": {
            "text/plain": [
              "        EIN                                      NAME APPLICATION_TYPE  \\\n",
              "0  10520599              BLUE KNIGHTS MOTORCYCLE CLUB              T10   \n",
              "1  10531628    AMERICAN CHESAPEAKE CLUB CHARITABLE TR               T3   \n",
              "2  10547893        ST CLOUD PROFESSIONAL FIREFIGHTERS               T5   \n",
              "3  10553066            SOUTHSIDE ATHLETIC ASSOCIATION               T3   \n",
              "4  10556103  GENETIC RESEARCH INSTITUTE OF THE DESERT               T3   \n",
              "\n",
              "        AFFILIATION CLASSIFICATION      USE_CASE  ORGANIZATION  STATUS  \\\n",
              "0       Independent          C1000    ProductDev   Association       1   \n",
              "1       Independent          C2000  Preservation  Co-operative       1   \n",
              "2  CompanySponsored          C3000    ProductDev   Association       1   \n",
              "3  CompanySponsored          C2000  Preservation         Trust       1   \n",
              "4       Independent          C1000     Heathcare         Trust       1   \n",
              "\n",
              "      INCOME_AMT SPECIAL_CONSIDERATIONS  ASK_AMT  IS_SUCCESSFUL  \n",
              "0              0                      N     5000              1  \n",
              "1         1-9999                      N   108590              1  \n",
              "2              0                      N     5000              0  \n",
              "3    10000-24999                      N     6692              1  \n",
              "4  100000-499999                      N   142590              1  "
            ],
            "text/html": [
              "\n",
              "  <div id=\"df-d7335bb1-be0e-403d-8853-f27e0185390b\">\n",
              "    <div class=\"colab-df-container\">\n",
              "      <div>\n",
              "<style scoped>\n",
              "    .dataframe tbody tr th:only-of-type {\n",
              "        vertical-align: middle;\n",
              "    }\n",
              "\n",
              "    .dataframe tbody tr th {\n",
              "        vertical-align: top;\n",
              "    }\n",
              "\n",
              "    .dataframe thead th {\n",
              "        text-align: right;\n",
              "    }\n",
              "</style>\n",
              "<table border=\"1\" class=\"dataframe\">\n",
              "  <thead>\n",
              "    <tr style=\"text-align: right;\">\n",
              "      <th></th>\n",
              "      <th>EIN</th>\n",
              "      <th>NAME</th>\n",
              "      <th>APPLICATION_TYPE</th>\n",
              "      <th>AFFILIATION</th>\n",
              "      <th>CLASSIFICATION</th>\n",
              "      <th>USE_CASE</th>\n",
              "      <th>ORGANIZATION</th>\n",
              "      <th>STATUS</th>\n",
              "      <th>INCOME_AMT</th>\n",
              "      <th>SPECIAL_CONSIDERATIONS</th>\n",
              "      <th>ASK_AMT</th>\n",
              "      <th>IS_SUCCESSFUL</th>\n",
              "    </tr>\n",
              "  </thead>\n",
              "  <tbody>\n",
              "    <tr>\n",
              "      <th>0</th>\n",
              "      <td>10520599</td>\n",
              "      <td>BLUE KNIGHTS MOTORCYCLE CLUB</td>\n",
              "      <td>T10</td>\n",
              "      <td>Independent</td>\n",
              "      <td>C1000</td>\n",
              "      <td>ProductDev</td>\n",
              "      <td>Association</td>\n",
              "      <td>1</td>\n",
              "      <td>0</td>\n",
              "      <td>N</td>\n",
              "      <td>5000</td>\n",
              "      <td>1</td>\n",
              "    </tr>\n",
              "    <tr>\n",
              "      <th>1</th>\n",
              "      <td>10531628</td>\n",
              "      <td>AMERICAN CHESAPEAKE CLUB CHARITABLE TR</td>\n",
              "      <td>T3</td>\n",
              "      <td>Independent</td>\n",
              "      <td>C2000</td>\n",
              "      <td>Preservation</td>\n",
              "      <td>Co-operative</td>\n",
              "      <td>1</td>\n",
              "      <td>1-9999</td>\n",
              "      <td>N</td>\n",
              "      <td>108590</td>\n",
              "      <td>1</td>\n",
              "    </tr>\n",
              "    <tr>\n",
              "      <th>2</th>\n",
              "      <td>10547893</td>\n",
              "      <td>ST CLOUD PROFESSIONAL FIREFIGHTERS</td>\n",
              "      <td>T5</td>\n",
              "      <td>CompanySponsored</td>\n",
              "      <td>C3000</td>\n",
              "      <td>ProductDev</td>\n",
              "      <td>Association</td>\n",
              "      <td>1</td>\n",
              "      <td>0</td>\n",
              "      <td>N</td>\n",
              "      <td>5000</td>\n",
              "      <td>0</td>\n",
              "    </tr>\n",
              "    <tr>\n",
              "      <th>3</th>\n",
              "      <td>10553066</td>\n",
              "      <td>SOUTHSIDE ATHLETIC ASSOCIATION</td>\n",
              "      <td>T3</td>\n",
              "      <td>CompanySponsored</td>\n",
              "      <td>C2000</td>\n",
              "      <td>Preservation</td>\n",
              "      <td>Trust</td>\n",
              "      <td>1</td>\n",
              "      <td>10000-24999</td>\n",
              "      <td>N</td>\n",
              "      <td>6692</td>\n",
              "      <td>1</td>\n",
              "    </tr>\n",
              "    <tr>\n",
              "      <th>4</th>\n",
              "      <td>10556103</td>\n",
              "      <td>GENETIC RESEARCH INSTITUTE OF THE DESERT</td>\n",
              "      <td>T3</td>\n",
              "      <td>Independent</td>\n",
              "      <td>C1000</td>\n",
              "      <td>Heathcare</td>\n",
              "      <td>Trust</td>\n",
              "      <td>1</td>\n",
              "      <td>100000-499999</td>\n",
              "      <td>N</td>\n",
              "      <td>142590</td>\n",
              "      <td>1</td>\n",
              "    </tr>\n",
              "  </tbody>\n",
              "</table>\n",
              "</div>\n",
              "      <button class=\"colab-df-convert\" onclick=\"convertToInteractive('df-d7335bb1-be0e-403d-8853-f27e0185390b')\"\n",
              "              title=\"Convert this dataframe to an interactive table.\"\n",
              "              style=\"display:none;\">\n",
              "        \n",
              "  <svg xmlns=\"http://www.w3.org/2000/svg\" height=\"24px\"viewBox=\"0 0 24 24\"\n",
              "       width=\"24px\">\n",
              "    <path d=\"M0 0h24v24H0V0z\" fill=\"none\"/>\n",
              "    <path d=\"M18.56 5.44l.94 2.06.94-2.06 2.06-.94-2.06-.94-.94-2.06-.94 2.06-2.06.94zm-11 1L8.5 8.5l.94-2.06 2.06-.94-2.06-.94L8.5 2.5l-.94 2.06-2.06.94zm10 10l.94 2.06.94-2.06 2.06-.94-2.06-.94-.94-2.06-.94 2.06-2.06.94z\"/><path d=\"M17.41 7.96l-1.37-1.37c-.4-.4-.92-.59-1.43-.59-.52 0-1.04.2-1.43.59L10.3 9.45l-7.72 7.72c-.78.78-.78 2.05 0 2.83L4 21.41c.39.39.9.59 1.41.59.51 0 1.02-.2 1.41-.59l7.78-7.78 2.81-2.81c.8-.78.8-2.07 0-2.86zM5.41 20L4 18.59l7.72-7.72 1.47 1.35L5.41 20z\"/>\n",
              "  </svg>\n",
              "      </button>\n",
              "      \n",
              "  <style>\n",
              "    .colab-df-container {\n",
              "      display:flex;\n",
              "      flex-wrap:wrap;\n",
              "      gap: 12px;\n",
              "    }\n",
              "\n",
              "    .colab-df-convert {\n",
              "      background-color: #E8F0FE;\n",
              "      border: none;\n",
              "      border-radius: 50%;\n",
              "      cursor: pointer;\n",
              "      display: none;\n",
              "      fill: #1967D2;\n",
              "      height: 32px;\n",
              "      padding: 0 0 0 0;\n",
              "      width: 32px;\n",
              "    }\n",
              "\n",
              "    .colab-df-convert:hover {\n",
              "      background-color: #E2EBFA;\n",
              "      box-shadow: 0px 1px 2px rgba(60, 64, 67, 0.3), 0px 1px 3px 1px rgba(60, 64, 67, 0.15);\n",
              "      fill: #174EA6;\n",
              "    }\n",
              "\n",
              "    [theme=dark] .colab-df-convert {\n",
              "      background-color: #3B4455;\n",
              "      fill: #D2E3FC;\n",
              "    }\n",
              "\n",
              "    [theme=dark] .colab-df-convert:hover {\n",
              "      background-color: #434B5C;\n",
              "      box-shadow: 0px 1px 3px 1px rgba(0, 0, 0, 0.15);\n",
              "      filter: drop-shadow(0px 1px 2px rgba(0, 0, 0, 0.3));\n",
              "      fill: #FFFFFF;\n",
              "    }\n",
              "  </style>\n",
              "\n",
              "      <script>\n",
              "        const buttonEl =\n",
              "          document.querySelector('#df-d7335bb1-be0e-403d-8853-f27e0185390b button.colab-df-convert');\n",
              "        buttonEl.style.display =\n",
              "          google.colab.kernel.accessAllowed ? 'block' : 'none';\n",
              "\n",
              "        async function convertToInteractive(key) {\n",
              "          const element = document.querySelector('#df-d7335bb1-be0e-403d-8853-f27e0185390b');\n",
              "          const dataTable =\n",
              "            await google.colab.kernel.invokeFunction('convertToInteractive',\n",
              "                                                     [key], {});\n",
              "          if (!dataTable) return;\n",
              "\n",
              "          const docLinkHtml = 'Like what you see? Visit the ' +\n",
              "            '<a target=\"_blank\" href=https://colab.research.google.com/notebooks/data_table.ipynb>data table notebook</a>'\n",
              "            + ' to learn more about interactive tables.';\n",
              "          element.innerHTML = '';\n",
              "          dataTable['output_type'] = 'display_data';\n",
              "          await google.colab.output.renderOutput(dataTable, element);\n",
              "          const docLink = document.createElement('div');\n",
              "          docLink.innerHTML = docLinkHtml;\n",
              "          element.appendChild(docLink);\n",
              "        }\n",
              "      </script>\n",
              "    </div>\n",
              "  </div>\n",
              "  "
            ]
          },
          "metadata": {},
          "execution_count": 6
        }
      ]
    },
    {
      "cell_type": "code",
      "metadata": {
        "id": "C-WB0yc4URsE",
        "colab": {
          "base_uri": "https://localhost:8080/"
        },
        "outputId": "cbc79db5-3d50-4c98-a276-19582512b3e7"
      },
      "source": [
        "# Review the data types associated with the columns\n",
        "applicant_data_df.dtypes"
      ],
      "execution_count": 7,
      "outputs": [
        {
          "output_type": "execute_result",
          "data": {
            "text/plain": [
              "EIN                        int64\n",
              "NAME                      object\n",
              "APPLICATION_TYPE          object\n",
              "AFFILIATION               object\n",
              "CLASSIFICATION            object\n",
              "USE_CASE                  object\n",
              "ORGANIZATION              object\n",
              "STATUS                     int64\n",
              "INCOME_AMT                object\n",
              "SPECIAL_CONSIDERATIONS    object\n",
              "ASK_AMT                    int64\n",
              "IS_SUCCESSFUL              int64\n",
              "dtype: object"
            ]
          },
          "metadata": {},
          "execution_count": 7
        }
      ]
    },
    {
      "cell_type": "markdown",
      "metadata": {
        "id": "XCwg3ahTURsE"
      },
      "source": [
        "### Step 2: Drop the “EIN” (Employer Identification Number) and “NAME” columns from the DataFrame, because they are not relevant to the binary classification model."
      ]
    },
    {
      "cell_type": "code",
      "metadata": {
        "id": "dj7yoYaAURsE",
        "colab": {
          "base_uri": "https://localhost:8080/",
          "height": 287
        },
        "outputId": "b73e82df-e0e7-4ee3-d8d9-b8cc32a79e00"
      },
      "source": [
        "# Drop the 'EIN' and 'NAME' columns from the DataFrame\n",
        "applicant_data_df = applicant_data_df.drop(columns=['EIN','NAME'])\n",
        "\n",
        "# Review the DataFrame\n",
        "applicant_data_df.head()\n"
      ],
      "execution_count": 8,
      "outputs": [
        {
          "output_type": "execute_result",
          "data": {
            "text/plain": [
              "  APPLICATION_TYPE       AFFILIATION CLASSIFICATION      USE_CASE  \\\n",
              "0              T10       Independent          C1000    ProductDev   \n",
              "1               T3       Independent          C2000  Preservation   \n",
              "2               T5  CompanySponsored          C3000    ProductDev   \n",
              "3               T3  CompanySponsored          C2000  Preservation   \n",
              "4               T3       Independent          C1000     Heathcare   \n",
              "\n",
              "   ORGANIZATION  STATUS     INCOME_AMT SPECIAL_CONSIDERATIONS  ASK_AMT  \\\n",
              "0   Association       1              0                      N     5000   \n",
              "1  Co-operative       1         1-9999                      N   108590   \n",
              "2   Association       1              0                      N     5000   \n",
              "3         Trust       1    10000-24999                      N     6692   \n",
              "4         Trust       1  100000-499999                      N   142590   \n",
              "\n",
              "   IS_SUCCESSFUL  \n",
              "0              1  \n",
              "1              1  \n",
              "2              0  \n",
              "3              1  \n",
              "4              1  "
            ],
            "text/html": [
              "\n",
              "  <div id=\"df-1df9d80a-574f-4b1b-bac4-b77019e27bc7\">\n",
              "    <div class=\"colab-df-container\">\n",
              "      <div>\n",
              "<style scoped>\n",
              "    .dataframe tbody tr th:only-of-type {\n",
              "        vertical-align: middle;\n",
              "    }\n",
              "\n",
              "    .dataframe tbody tr th {\n",
              "        vertical-align: top;\n",
              "    }\n",
              "\n",
              "    .dataframe thead th {\n",
              "        text-align: right;\n",
              "    }\n",
              "</style>\n",
              "<table border=\"1\" class=\"dataframe\">\n",
              "  <thead>\n",
              "    <tr style=\"text-align: right;\">\n",
              "      <th></th>\n",
              "      <th>APPLICATION_TYPE</th>\n",
              "      <th>AFFILIATION</th>\n",
              "      <th>CLASSIFICATION</th>\n",
              "      <th>USE_CASE</th>\n",
              "      <th>ORGANIZATION</th>\n",
              "      <th>STATUS</th>\n",
              "      <th>INCOME_AMT</th>\n",
              "      <th>SPECIAL_CONSIDERATIONS</th>\n",
              "      <th>ASK_AMT</th>\n",
              "      <th>IS_SUCCESSFUL</th>\n",
              "    </tr>\n",
              "  </thead>\n",
              "  <tbody>\n",
              "    <tr>\n",
              "      <th>0</th>\n",
              "      <td>T10</td>\n",
              "      <td>Independent</td>\n",
              "      <td>C1000</td>\n",
              "      <td>ProductDev</td>\n",
              "      <td>Association</td>\n",
              "      <td>1</td>\n",
              "      <td>0</td>\n",
              "      <td>N</td>\n",
              "      <td>5000</td>\n",
              "      <td>1</td>\n",
              "    </tr>\n",
              "    <tr>\n",
              "      <th>1</th>\n",
              "      <td>T3</td>\n",
              "      <td>Independent</td>\n",
              "      <td>C2000</td>\n",
              "      <td>Preservation</td>\n",
              "      <td>Co-operative</td>\n",
              "      <td>1</td>\n",
              "      <td>1-9999</td>\n",
              "      <td>N</td>\n",
              "      <td>108590</td>\n",
              "      <td>1</td>\n",
              "    </tr>\n",
              "    <tr>\n",
              "      <th>2</th>\n",
              "      <td>T5</td>\n",
              "      <td>CompanySponsored</td>\n",
              "      <td>C3000</td>\n",
              "      <td>ProductDev</td>\n",
              "      <td>Association</td>\n",
              "      <td>1</td>\n",
              "      <td>0</td>\n",
              "      <td>N</td>\n",
              "      <td>5000</td>\n",
              "      <td>0</td>\n",
              "    </tr>\n",
              "    <tr>\n",
              "      <th>3</th>\n",
              "      <td>T3</td>\n",
              "      <td>CompanySponsored</td>\n",
              "      <td>C2000</td>\n",
              "      <td>Preservation</td>\n",
              "      <td>Trust</td>\n",
              "      <td>1</td>\n",
              "      <td>10000-24999</td>\n",
              "      <td>N</td>\n",
              "      <td>6692</td>\n",
              "      <td>1</td>\n",
              "    </tr>\n",
              "    <tr>\n",
              "      <th>4</th>\n",
              "      <td>T3</td>\n",
              "      <td>Independent</td>\n",
              "      <td>C1000</td>\n",
              "      <td>Heathcare</td>\n",
              "      <td>Trust</td>\n",
              "      <td>1</td>\n",
              "      <td>100000-499999</td>\n",
              "      <td>N</td>\n",
              "      <td>142590</td>\n",
              "      <td>1</td>\n",
              "    </tr>\n",
              "  </tbody>\n",
              "</table>\n",
              "</div>\n",
              "      <button class=\"colab-df-convert\" onclick=\"convertToInteractive('df-1df9d80a-574f-4b1b-bac4-b77019e27bc7')\"\n",
              "              title=\"Convert this dataframe to an interactive table.\"\n",
              "              style=\"display:none;\">\n",
              "        \n",
              "  <svg xmlns=\"http://www.w3.org/2000/svg\" height=\"24px\"viewBox=\"0 0 24 24\"\n",
              "       width=\"24px\">\n",
              "    <path d=\"M0 0h24v24H0V0z\" fill=\"none\"/>\n",
              "    <path d=\"M18.56 5.44l.94 2.06.94-2.06 2.06-.94-2.06-.94-.94-2.06-.94 2.06-2.06.94zm-11 1L8.5 8.5l.94-2.06 2.06-.94-2.06-.94L8.5 2.5l-.94 2.06-2.06.94zm10 10l.94 2.06.94-2.06 2.06-.94-2.06-.94-.94-2.06-.94 2.06-2.06.94z\"/><path d=\"M17.41 7.96l-1.37-1.37c-.4-.4-.92-.59-1.43-.59-.52 0-1.04.2-1.43.59L10.3 9.45l-7.72 7.72c-.78.78-.78 2.05 0 2.83L4 21.41c.39.39.9.59 1.41.59.51 0 1.02-.2 1.41-.59l7.78-7.78 2.81-2.81c.8-.78.8-2.07 0-2.86zM5.41 20L4 18.59l7.72-7.72 1.47 1.35L5.41 20z\"/>\n",
              "  </svg>\n",
              "      </button>\n",
              "      \n",
              "  <style>\n",
              "    .colab-df-container {\n",
              "      display:flex;\n",
              "      flex-wrap:wrap;\n",
              "      gap: 12px;\n",
              "    }\n",
              "\n",
              "    .colab-df-convert {\n",
              "      background-color: #E8F0FE;\n",
              "      border: none;\n",
              "      border-radius: 50%;\n",
              "      cursor: pointer;\n",
              "      display: none;\n",
              "      fill: #1967D2;\n",
              "      height: 32px;\n",
              "      padding: 0 0 0 0;\n",
              "      width: 32px;\n",
              "    }\n",
              "\n",
              "    .colab-df-convert:hover {\n",
              "      background-color: #E2EBFA;\n",
              "      box-shadow: 0px 1px 2px rgba(60, 64, 67, 0.3), 0px 1px 3px 1px rgba(60, 64, 67, 0.15);\n",
              "      fill: #174EA6;\n",
              "    }\n",
              "\n",
              "    [theme=dark] .colab-df-convert {\n",
              "      background-color: #3B4455;\n",
              "      fill: #D2E3FC;\n",
              "    }\n",
              "\n",
              "    [theme=dark] .colab-df-convert:hover {\n",
              "      background-color: #434B5C;\n",
              "      box-shadow: 0px 1px 3px 1px rgba(0, 0, 0, 0.15);\n",
              "      filter: drop-shadow(0px 1px 2px rgba(0, 0, 0, 0.3));\n",
              "      fill: #FFFFFF;\n",
              "    }\n",
              "  </style>\n",
              "\n",
              "      <script>\n",
              "        const buttonEl =\n",
              "          document.querySelector('#df-1df9d80a-574f-4b1b-bac4-b77019e27bc7 button.colab-df-convert');\n",
              "        buttonEl.style.display =\n",
              "          google.colab.kernel.accessAllowed ? 'block' : 'none';\n",
              "\n",
              "        async function convertToInteractive(key) {\n",
              "          const element = document.querySelector('#df-1df9d80a-574f-4b1b-bac4-b77019e27bc7');\n",
              "          const dataTable =\n",
              "            await google.colab.kernel.invokeFunction('convertToInteractive',\n",
              "                                                     [key], {});\n",
              "          if (!dataTable) return;\n",
              "\n",
              "          const docLinkHtml = 'Like what you see? Visit the ' +\n",
              "            '<a target=\"_blank\" href=https://colab.research.google.com/notebooks/data_table.ipynb>data table notebook</a>'\n",
              "            + ' to learn more about interactive tables.';\n",
              "          element.innerHTML = '';\n",
              "          dataTable['output_type'] = 'display_data';\n",
              "          await google.colab.output.renderOutput(dataTable, element);\n",
              "          const docLink = document.createElement('div');\n",
              "          docLink.innerHTML = docLinkHtml;\n",
              "          element.appendChild(docLink);\n",
              "        }\n",
              "      </script>\n",
              "    </div>\n",
              "  </div>\n",
              "  "
            ]
          },
          "metadata": {},
          "execution_count": 8
        }
      ]
    },
    {
      "cell_type": "code",
      "source": [
        "# Additional data exploration\n",
        "print('STATUS:')\n",
        "display(applicant_data_df['STATUS'].value_counts())\n",
        "\n",
        "print('SPECIAL_CONSIDERATIONS:')\n",
        "display(applicant_data_df['SPECIAL_CONSIDERATIONS'].value_counts())\n"
      ],
      "metadata": {
        "colab": {
          "base_uri": "https://localhost:8080/",
          "height": 159
        },
        "id": "N4ftZh31Gmp3",
        "outputId": "c22bad8e-9ead-4d4c-cc56-e50058691f74"
      },
      "execution_count": 9,
      "outputs": [
        {
          "output_type": "stream",
          "name": "stdout",
          "text": [
            "STATUS:\n"
          ]
        },
        {
          "output_type": "display_data",
          "data": {
            "text/plain": [
              "1    34294\n",
              "0        5\n",
              "Name: STATUS, dtype: int64"
            ]
          },
          "metadata": {}
        },
        {
          "output_type": "stream",
          "name": "stdout",
          "text": [
            "SPECIAL_CONSIDERATIONS:\n"
          ]
        },
        {
          "output_type": "display_data",
          "data": {
            "text/plain": [
              "N    34272\n",
              "Y       27\n",
              "Name: SPECIAL_CONSIDERATIONS, dtype: int64"
            ]
          },
          "metadata": {}
        }
      ]
    },
    {
      "cell_type": "markdown",
      "metadata": {
        "id": "WFF35NwZURsF"
      },
      "source": [
        "### Step 3: Encode the dataset’s categorical variables using `OneHotEncoder`, and then place the encoded variables into a new DataFrame."
      ]
    },
    {
      "cell_type": "code",
      "metadata": {
        "id": "aHv_okM7URsF",
        "colab": {
          "base_uri": "https://localhost:8080/",
          "height": 141
        },
        "outputId": "882e170c-8a1f-42d9-86d1-9f88d2fb7794"
      },
      "source": [
        "# Create a list of categorical variables \n",
        "# Since status is already an integer, it is not included for one hot encoding\n",
        "categorical_variables = ['APPLICATION_TYPE','AFFILIATION','CLASSIFICATION','USE_CASE', 'ORGANIZATION', 'INCOME_AMT', 'SPECIAL_CONSIDERATIONS']\n",
        "\n",
        "# Display the categorical variables list\n",
        "display(categorical_variables)"
      ],
      "execution_count": 10,
      "outputs": [
        {
          "output_type": "display_data",
          "data": {
            "text/plain": [
              "['APPLICATION_TYPE',\n",
              " 'AFFILIATION',\n",
              " 'CLASSIFICATION',\n",
              " 'USE_CASE',\n",
              " 'ORGANIZATION',\n",
              " 'INCOME_AMT',\n",
              " 'SPECIAL_CONSIDERATIONS']"
            ]
          },
          "metadata": {}
        }
      ]
    },
    {
      "cell_type": "code",
      "metadata": {
        "id": "IizC83_xURsF"
      },
      "source": [
        "# Create a OneHotEncoder instance\n",
        "# drop if_binary is specified for SPECIAL_CONSIDERATIONS.  This only has 2 values, \n",
        "# if one was not dropped, this signal would be double counted.\n",
        "enc = OneHotEncoder(sparse=False,drop='if_binary')\n"
      ],
      "execution_count": 11,
      "outputs": []
    },
    {
      "cell_type": "code",
      "metadata": {
        "id": "fLUlCo48URsF",
        "colab": {
          "base_uri": "https://localhost:8080/",
          "height": 726
        },
        "outputId": "63000316-3764-4bef-f18b-d3724bfeaa8c"
      },
      "source": [
        "# Encode the categorcal variables using OneHotEncoder\n",
        "encoded_data = enc.fit_transform(applicant_data_df[categorical_variables])\n",
        "\n",
        "# Preview encoded data\n",
        "display(encoded_data[0:5])"
      ],
      "execution_count": 12,
      "outputs": [
        {
          "output_type": "display_data",
          "data": {
            "text/plain": [
              "array([[1., 0., 0., 0., 0., 0., 0., 0., 0., 0., 0., 0., 0., 0., 0., 0.,\n",
              "        0., 0., 0., 1., 0., 0., 0., 0., 1., 0., 0., 0., 0., 0., 0., 0.,\n",
              "        0., 0., 0., 0., 0., 0., 0., 0., 0., 0., 0., 0., 0., 0., 0., 0.,\n",
              "        0., 0., 0., 0., 0., 0., 0., 0., 0., 0., 0., 0., 0., 0., 0., 0.,\n",
              "        0., 0., 0., 0., 0., 0., 0., 0., 0., 0., 0., 0., 0., 0., 0., 0.,\n",
              "        0., 0., 0., 0., 0., 0., 0., 0., 0., 0., 0., 0., 0., 0., 0., 0.,\n",
              "        0., 0., 1., 1., 0., 0., 0., 1., 0., 0., 0., 0., 0., 0., 0., 0.,\n",
              "        0.],\n",
              "       [0., 0., 0., 0., 0., 0., 0., 0., 0., 0., 1., 0., 0., 0., 0., 0.,\n",
              "        0., 0., 0., 1., 0., 0., 0., 0., 0., 0., 0., 0., 0., 0., 0., 0.,\n",
              "        0., 0., 0., 0., 0., 0., 0., 0., 0., 0., 0., 0., 0., 0., 0., 0.,\n",
              "        0., 0., 0., 0., 0., 0., 0., 0., 0., 0., 0., 1., 0., 0., 0., 0.,\n",
              "        0., 0., 0., 0., 0., 0., 0., 0., 0., 0., 0., 0., 0., 0., 0., 0.,\n",
              "        0., 0., 0., 0., 0., 0., 0., 0., 0., 0., 0., 0., 0., 0., 0., 0.,\n",
              "        0., 1., 0., 0., 1., 0., 0., 0., 1., 0., 0., 0., 0., 0., 0., 0.,\n",
              "        0.],\n",
              "       [0., 0., 0., 0., 0., 0., 0., 0., 0., 0., 0., 0., 1., 0., 0., 0.,\n",
              "        0., 1., 0., 0., 0., 0., 0., 0., 0., 0., 0., 0., 0., 0., 0., 0.,\n",
              "        0., 0., 0., 0., 0., 0., 0., 0., 0., 0., 0., 0., 0., 0., 0., 0.,\n",
              "        0., 0., 0., 0., 0., 0., 0., 0., 0., 0., 0., 0., 0., 0., 0., 0.,\n",
              "        0., 0., 0., 0., 0., 0., 0., 0., 0., 0., 1., 0., 0., 0., 0., 0.,\n",
              "        0., 0., 0., 0., 0., 0., 0., 0., 0., 0., 0., 0., 0., 0., 0., 0.,\n",
              "        0., 0., 1., 1., 0., 0., 0., 1., 0., 0., 0., 0., 0., 0., 0., 0.,\n",
              "        0.],\n",
              "       [0., 0., 0., 0., 0., 0., 0., 0., 0., 0., 1., 0., 0., 0., 0., 0.,\n",
              "        0., 1., 0., 0., 0., 0., 0., 0., 0., 0., 0., 0., 0., 0., 0., 0.,\n",
              "        0., 0., 0., 0., 0., 0., 0., 0., 0., 0., 0., 0., 0., 0., 0., 0.,\n",
              "        0., 0., 0., 0., 0., 0., 0., 0., 0., 0., 0., 1., 0., 0., 0., 0.,\n",
              "        0., 0., 0., 0., 0., 0., 0., 0., 0., 0., 0., 0., 0., 0., 0., 0.,\n",
              "        0., 0., 0., 0., 0., 0., 0., 0., 0., 0., 0., 0., 0., 0., 0., 0.,\n",
              "        0., 1., 0., 0., 0., 0., 1., 0., 0., 1., 0., 0., 0., 0., 0., 0.,\n",
              "        0.],\n",
              "       [0., 0., 0., 0., 0., 0., 0., 0., 0., 0., 1., 0., 0., 0., 0., 0.,\n",
              "        0., 0., 0., 1., 0., 0., 0., 0., 1., 0., 0., 0., 0., 0., 0., 0.,\n",
              "        0., 0., 0., 0., 0., 0., 0., 0., 0., 0., 0., 0., 0., 0., 0., 0.,\n",
              "        0., 0., 0., 0., 0., 0., 0., 0., 0., 0., 0., 0., 0., 0., 0., 0.,\n",
              "        0., 0., 0., 0., 0., 0., 0., 0., 0., 0., 0., 0., 0., 0., 0., 0.,\n",
              "        0., 0., 0., 0., 0., 0., 0., 0., 0., 0., 0., 0., 0., 0., 0., 1.,\n",
              "        0., 0., 0., 0., 0., 0., 1., 0., 0., 0., 1., 0., 0., 0., 0., 0.,\n",
              "        0.]])"
            ]
          },
          "metadata": {}
        }
      ]
    },
    {
      "cell_type": "code",
      "metadata": {
        "id": "Bj-Hc08qURsF",
        "colab": {
          "base_uri": "https://localhost:8080/",
          "height": 352
        },
        "outputId": "4effe58d-b864-4d60-cf76-5561b641ab4c"
      },
      "source": [
        "# Create a DataFrame with the encoded variables\n",
        "encoded_df = pd.DataFrame(\n",
        "    encoded_data,\n",
        "    columns = enc.get_feature_names(categorical_variables)\n",
        ")\n",
        "# Review the DataFrame\n",
        "encoded_df.head()\n"
      ],
      "execution_count": 13,
      "outputs": [
        {
          "output_type": "stream",
          "name": "stderr",
          "text": [
            "/usr/local/lib/python3.7/dist-packages/sklearn/utils/deprecation.py:87: FutureWarning: Function get_feature_names is deprecated; get_feature_names is deprecated in 1.0 and will be removed in 1.2. Please use get_feature_names_out instead.\n",
            "  warnings.warn(msg, category=FutureWarning)\n"
          ]
        },
        {
          "output_type": "execute_result",
          "data": {
            "text/plain": [
              "   APPLICATION_TYPE_T10  APPLICATION_TYPE_T12  APPLICATION_TYPE_T13  \\\n",
              "0                   1.0                   0.0                   0.0   \n",
              "1                   0.0                   0.0                   0.0   \n",
              "2                   0.0                   0.0                   0.0   \n",
              "3                   0.0                   0.0                   0.0   \n",
              "4                   0.0                   0.0                   0.0   \n",
              "\n",
              "   APPLICATION_TYPE_T14  APPLICATION_TYPE_T15  APPLICATION_TYPE_T17  \\\n",
              "0                   0.0                   0.0                   0.0   \n",
              "1                   0.0                   0.0                   0.0   \n",
              "2                   0.0                   0.0                   0.0   \n",
              "3                   0.0                   0.0                   0.0   \n",
              "4                   0.0                   0.0                   0.0   \n",
              "\n",
              "   APPLICATION_TYPE_T19  APPLICATION_TYPE_T2  APPLICATION_TYPE_T25  \\\n",
              "0                   0.0                  0.0                   0.0   \n",
              "1                   0.0                  0.0                   0.0   \n",
              "2                   0.0                  0.0                   0.0   \n",
              "3                   0.0                  0.0                   0.0   \n",
              "4                   0.0                  0.0                   0.0   \n",
              "\n",
              "   APPLICATION_TYPE_T29  ...  INCOME_AMT_0  INCOME_AMT_1-9999  \\\n",
              "0                   0.0  ...           1.0                0.0   \n",
              "1                   0.0  ...           0.0                1.0   \n",
              "2                   0.0  ...           1.0                0.0   \n",
              "3                   0.0  ...           0.0                0.0   \n",
              "4                   0.0  ...           0.0                0.0   \n",
              "\n",
              "   INCOME_AMT_10000-24999  INCOME_AMT_100000-499999  INCOME_AMT_10M-50M  \\\n",
              "0                     0.0                       0.0                 0.0   \n",
              "1                     0.0                       0.0                 0.0   \n",
              "2                     0.0                       0.0                 0.0   \n",
              "3                     1.0                       0.0                 0.0   \n",
              "4                     0.0                       1.0                 0.0   \n",
              "\n",
              "   INCOME_AMT_1M-5M  INCOME_AMT_25000-99999  INCOME_AMT_50M+  \\\n",
              "0               0.0                     0.0              0.0   \n",
              "1               0.0                     0.0              0.0   \n",
              "2               0.0                     0.0              0.0   \n",
              "3               0.0                     0.0              0.0   \n",
              "4               0.0                     0.0              0.0   \n",
              "\n",
              "   INCOME_AMT_5M-10M  SPECIAL_CONSIDERATIONS_Y  \n",
              "0                0.0                       0.0  \n",
              "1                0.0                       0.0  \n",
              "2                0.0                       0.0  \n",
              "3                0.0                       0.0  \n",
              "4                0.0                       0.0  \n",
              "\n",
              "[5 rows x 113 columns]"
            ],
            "text/html": [
              "\n",
              "  <div id=\"df-7e4cd96a-963d-42fc-8300-0333d40e79c0\">\n",
              "    <div class=\"colab-df-container\">\n",
              "      <div>\n",
              "<style scoped>\n",
              "    .dataframe tbody tr th:only-of-type {\n",
              "        vertical-align: middle;\n",
              "    }\n",
              "\n",
              "    .dataframe tbody tr th {\n",
              "        vertical-align: top;\n",
              "    }\n",
              "\n",
              "    .dataframe thead th {\n",
              "        text-align: right;\n",
              "    }\n",
              "</style>\n",
              "<table border=\"1\" class=\"dataframe\">\n",
              "  <thead>\n",
              "    <tr style=\"text-align: right;\">\n",
              "      <th></th>\n",
              "      <th>APPLICATION_TYPE_T10</th>\n",
              "      <th>APPLICATION_TYPE_T12</th>\n",
              "      <th>APPLICATION_TYPE_T13</th>\n",
              "      <th>APPLICATION_TYPE_T14</th>\n",
              "      <th>APPLICATION_TYPE_T15</th>\n",
              "      <th>APPLICATION_TYPE_T17</th>\n",
              "      <th>APPLICATION_TYPE_T19</th>\n",
              "      <th>APPLICATION_TYPE_T2</th>\n",
              "      <th>APPLICATION_TYPE_T25</th>\n",
              "      <th>APPLICATION_TYPE_T29</th>\n",
              "      <th>...</th>\n",
              "      <th>INCOME_AMT_0</th>\n",
              "      <th>INCOME_AMT_1-9999</th>\n",
              "      <th>INCOME_AMT_10000-24999</th>\n",
              "      <th>INCOME_AMT_100000-499999</th>\n",
              "      <th>INCOME_AMT_10M-50M</th>\n",
              "      <th>INCOME_AMT_1M-5M</th>\n",
              "      <th>INCOME_AMT_25000-99999</th>\n",
              "      <th>INCOME_AMT_50M+</th>\n",
              "      <th>INCOME_AMT_5M-10M</th>\n",
              "      <th>SPECIAL_CONSIDERATIONS_Y</th>\n",
              "    </tr>\n",
              "  </thead>\n",
              "  <tbody>\n",
              "    <tr>\n",
              "      <th>0</th>\n",
              "      <td>1.0</td>\n",
              "      <td>0.0</td>\n",
              "      <td>0.0</td>\n",
              "      <td>0.0</td>\n",
              "      <td>0.0</td>\n",
              "      <td>0.0</td>\n",
              "      <td>0.0</td>\n",
              "      <td>0.0</td>\n",
              "      <td>0.0</td>\n",
              "      <td>0.0</td>\n",
              "      <td>...</td>\n",
              "      <td>1.0</td>\n",
              "      <td>0.0</td>\n",
              "      <td>0.0</td>\n",
              "      <td>0.0</td>\n",
              "      <td>0.0</td>\n",
              "      <td>0.0</td>\n",
              "      <td>0.0</td>\n",
              "      <td>0.0</td>\n",
              "      <td>0.0</td>\n",
              "      <td>0.0</td>\n",
              "    </tr>\n",
              "    <tr>\n",
              "      <th>1</th>\n",
              "      <td>0.0</td>\n",
              "      <td>0.0</td>\n",
              "      <td>0.0</td>\n",
              "      <td>0.0</td>\n",
              "      <td>0.0</td>\n",
              "      <td>0.0</td>\n",
              "      <td>0.0</td>\n",
              "      <td>0.0</td>\n",
              "      <td>0.0</td>\n",
              "      <td>0.0</td>\n",
              "      <td>...</td>\n",
              "      <td>0.0</td>\n",
              "      <td>1.0</td>\n",
              "      <td>0.0</td>\n",
              "      <td>0.0</td>\n",
              "      <td>0.0</td>\n",
              "      <td>0.0</td>\n",
              "      <td>0.0</td>\n",
              "      <td>0.0</td>\n",
              "      <td>0.0</td>\n",
              "      <td>0.0</td>\n",
              "    </tr>\n",
              "    <tr>\n",
              "      <th>2</th>\n",
              "      <td>0.0</td>\n",
              "      <td>0.0</td>\n",
              "      <td>0.0</td>\n",
              "      <td>0.0</td>\n",
              "      <td>0.0</td>\n",
              "      <td>0.0</td>\n",
              "      <td>0.0</td>\n",
              "      <td>0.0</td>\n",
              "      <td>0.0</td>\n",
              "      <td>0.0</td>\n",
              "      <td>...</td>\n",
              "      <td>1.0</td>\n",
              "      <td>0.0</td>\n",
              "      <td>0.0</td>\n",
              "      <td>0.0</td>\n",
              "      <td>0.0</td>\n",
              "      <td>0.0</td>\n",
              "      <td>0.0</td>\n",
              "      <td>0.0</td>\n",
              "      <td>0.0</td>\n",
              "      <td>0.0</td>\n",
              "    </tr>\n",
              "    <tr>\n",
              "      <th>3</th>\n",
              "      <td>0.0</td>\n",
              "      <td>0.0</td>\n",
              "      <td>0.0</td>\n",
              "      <td>0.0</td>\n",
              "      <td>0.0</td>\n",
              "      <td>0.0</td>\n",
              "      <td>0.0</td>\n",
              "      <td>0.0</td>\n",
              "      <td>0.0</td>\n",
              "      <td>0.0</td>\n",
              "      <td>...</td>\n",
              "      <td>0.0</td>\n",
              "      <td>0.0</td>\n",
              "      <td>1.0</td>\n",
              "      <td>0.0</td>\n",
              "      <td>0.0</td>\n",
              "      <td>0.0</td>\n",
              "      <td>0.0</td>\n",
              "      <td>0.0</td>\n",
              "      <td>0.0</td>\n",
              "      <td>0.0</td>\n",
              "    </tr>\n",
              "    <tr>\n",
              "      <th>4</th>\n",
              "      <td>0.0</td>\n",
              "      <td>0.0</td>\n",
              "      <td>0.0</td>\n",
              "      <td>0.0</td>\n",
              "      <td>0.0</td>\n",
              "      <td>0.0</td>\n",
              "      <td>0.0</td>\n",
              "      <td>0.0</td>\n",
              "      <td>0.0</td>\n",
              "      <td>0.0</td>\n",
              "      <td>...</td>\n",
              "      <td>0.0</td>\n",
              "      <td>0.0</td>\n",
              "      <td>0.0</td>\n",
              "      <td>1.0</td>\n",
              "      <td>0.0</td>\n",
              "      <td>0.0</td>\n",
              "      <td>0.0</td>\n",
              "      <td>0.0</td>\n",
              "      <td>0.0</td>\n",
              "      <td>0.0</td>\n",
              "    </tr>\n",
              "  </tbody>\n",
              "</table>\n",
              "<p>5 rows × 113 columns</p>\n",
              "</div>\n",
              "      <button class=\"colab-df-convert\" onclick=\"convertToInteractive('df-7e4cd96a-963d-42fc-8300-0333d40e79c0')\"\n",
              "              title=\"Convert this dataframe to an interactive table.\"\n",
              "              style=\"display:none;\">\n",
              "        \n",
              "  <svg xmlns=\"http://www.w3.org/2000/svg\" height=\"24px\"viewBox=\"0 0 24 24\"\n",
              "       width=\"24px\">\n",
              "    <path d=\"M0 0h24v24H0V0z\" fill=\"none\"/>\n",
              "    <path d=\"M18.56 5.44l.94 2.06.94-2.06 2.06-.94-2.06-.94-.94-2.06-.94 2.06-2.06.94zm-11 1L8.5 8.5l.94-2.06 2.06-.94-2.06-.94L8.5 2.5l-.94 2.06-2.06.94zm10 10l.94 2.06.94-2.06 2.06-.94-2.06-.94-.94-2.06-.94 2.06-2.06.94z\"/><path d=\"M17.41 7.96l-1.37-1.37c-.4-.4-.92-.59-1.43-.59-.52 0-1.04.2-1.43.59L10.3 9.45l-7.72 7.72c-.78.78-.78 2.05 0 2.83L4 21.41c.39.39.9.59 1.41.59.51 0 1.02-.2 1.41-.59l7.78-7.78 2.81-2.81c.8-.78.8-2.07 0-2.86zM5.41 20L4 18.59l7.72-7.72 1.47 1.35L5.41 20z\"/>\n",
              "  </svg>\n",
              "      </button>\n",
              "      \n",
              "  <style>\n",
              "    .colab-df-container {\n",
              "      display:flex;\n",
              "      flex-wrap:wrap;\n",
              "      gap: 12px;\n",
              "    }\n",
              "\n",
              "    .colab-df-convert {\n",
              "      background-color: #E8F0FE;\n",
              "      border: none;\n",
              "      border-radius: 50%;\n",
              "      cursor: pointer;\n",
              "      display: none;\n",
              "      fill: #1967D2;\n",
              "      height: 32px;\n",
              "      padding: 0 0 0 0;\n",
              "      width: 32px;\n",
              "    }\n",
              "\n",
              "    .colab-df-convert:hover {\n",
              "      background-color: #E2EBFA;\n",
              "      box-shadow: 0px 1px 2px rgba(60, 64, 67, 0.3), 0px 1px 3px 1px rgba(60, 64, 67, 0.15);\n",
              "      fill: #174EA6;\n",
              "    }\n",
              "\n",
              "    [theme=dark] .colab-df-convert {\n",
              "      background-color: #3B4455;\n",
              "      fill: #D2E3FC;\n",
              "    }\n",
              "\n",
              "    [theme=dark] .colab-df-convert:hover {\n",
              "      background-color: #434B5C;\n",
              "      box-shadow: 0px 1px 3px 1px rgba(0, 0, 0, 0.15);\n",
              "      filter: drop-shadow(0px 1px 2px rgba(0, 0, 0, 0.3));\n",
              "      fill: #FFFFFF;\n",
              "    }\n",
              "  </style>\n",
              "\n",
              "      <script>\n",
              "        const buttonEl =\n",
              "          document.querySelector('#df-7e4cd96a-963d-42fc-8300-0333d40e79c0 button.colab-df-convert');\n",
              "        buttonEl.style.display =\n",
              "          google.colab.kernel.accessAllowed ? 'block' : 'none';\n",
              "\n",
              "        async function convertToInteractive(key) {\n",
              "          const element = document.querySelector('#df-7e4cd96a-963d-42fc-8300-0333d40e79c0');\n",
              "          const dataTable =\n",
              "            await google.colab.kernel.invokeFunction('convertToInteractive',\n",
              "                                                     [key], {});\n",
              "          if (!dataTable) return;\n",
              "\n",
              "          const docLinkHtml = 'Like what you see? Visit the ' +\n",
              "            '<a target=\"_blank\" href=https://colab.research.google.com/notebooks/data_table.ipynb>data table notebook</a>'\n",
              "            + ' to learn more about interactive tables.';\n",
              "          element.innerHTML = '';\n",
              "          dataTable['output_type'] = 'display_data';\n",
              "          await google.colab.output.renderOutput(dataTable, element);\n",
              "          const docLink = document.createElement('div');\n",
              "          docLink.innerHTML = docLinkHtml;\n",
              "          element.appendChild(docLink);\n",
              "        }\n",
              "      </script>\n",
              "    </div>\n",
              "  </div>\n",
              "  "
            ]
          },
          "metadata": {},
          "execution_count": 13
        }
      ]
    },
    {
      "cell_type": "markdown",
      "metadata": {
        "id": "A8Bd0AQTURsF"
      },
      "source": [
        "### Step 4: Add the original DataFrame’s numerical variables to the DataFrame containing the encoded variables.\n",
        "\n",
        "> **Note** To complete this step, you will employ the Pandas `concat()` function that was introduced earlier in this course. "
      ]
    },
    {
      "cell_type": "code",
      "metadata": {
        "id": "r43_PQpFURsG",
        "colab": {
          "base_uri": "https://localhost:8080/",
          "height": 316
        },
        "outputId": "618aed22-6b97-4203-d6cd-87eb7d179f64"
      },
      "source": [
        "# Add the numerical variables from the original DataFrame to the one-hot encoding DataFrame\n",
        "encoded_df = pd.concat([applicant_data_df[['STATUS','ASK_AMT']],encoded_df],axis=1)\n",
        "\n",
        "# Review the Dataframe\n",
        "encoded_df.head()"
      ],
      "execution_count": 14,
      "outputs": [
        {
          "output_type": "execute_result",
          "data": {
            "text/plain": [
              "   STATUS  ASK_AMT  APPLICATION_TYPE_T10  APPLICATION_TYPE_T12  \\\n",
              "0       1     5000                   1.0                   0.0   \n",
              "1       1   108590                   0.0                   0.0   \n",
              "2       1     5000                   0.0                   0.0   \n",
              "3       1     6692                   0.0                   0.0   \n",
              "4       1   142590                   0.0                   0.0   \n",
              "\n",
              "   APPLICATION_TYPE_T13  APPLICATION_TYPE_T14  APPLICATION_TYPE_T15  \\\n",
              "0                   0.0                   0.0                   0.0   \n",
              "1                   0.0                   0.0                   0.0   \n",
              "2                   0.0                   0.0                   0.0   \n",
              "3                   0.0                   0.0                   0.0   \n",
              "4                   0.0                   0.0                   0.0   \n",
              "\n",
              "   APPLICATION_TYPE_T17  APPLICATION_TYPE_T19  APPLICATION_TYPE_T2  ...  \\\n",
              "0                   0.0                   0.0                  0.0  ...   \n",
              "1                   0.0                   0.0                  0.0  ...   \n",
              "2                   0.0                   0.0                  0.0  ...   \n",
              "3                   0.0                   0.0                  0.0  ...   \n",
              "4                   0.0                   0.0                  0.0  ...   \n",
              "\n",
              "   INCOME_AMT_0  INCOME_AMT_1-9999  INCOME_AMT_10000-24999  \\\n",
              "0           1.0                0.0                     0.0   \n",
              "1           0.0                1.0                     0.0   \n",
              "2           1.0                0.0                     0.0   \n",
              "3           0.0                0.0                     1.0   \n",
              "4           0.0                0.0                     0.0   \n",
              "\n",
              "   INCOME_AMT_100000-499999  INCOME_AMT_10M-50M  INCOME_AMT_1M-5M  \\\n",
              "0                       0.0                 0.0               0.0   \n",
              "1                       0.0                 0.0               0.0   \n",
              "2                       0.0                 0.0               0.0   \n",
              "3                       0.0                 0.0               0.0   \n",
              "4                       1.0                 0.0               0.0   \n",
              "\n",
              "   INCOME_AMT_25000-99999  INCOME_AMT_50M+  INCOME_AMT_5M-10M  \\\n",
              "0                     0.0              0.0                0.0   \n",
              "1                     0.0              0.0                0.0   \n",
              "2                     0.0              0.0                0.0   \n",
              "3                     0.0              0.0                0.0   \n",
              "4                     0.0              0.0                0.0   \n",
              "\n",
              "   SPECIAL_CONSIDERATIONS_Y  \n",
              "0                       0.0  \n",
              "1                       0.0  \n",
              "2                       0.0  \n",
              "3                       0.0  \n",
              "4                       0.0  \n",
              "\n",
              "[5 rows x 115 columns]"
            ],
            "text/html": [
              "\n",
              "  <div id=\"df-ec3c2d3d-a894-4769-8f29-1cbf87c4a2b3\">\n",
              "    <div class=\"colab-df-container\">\n",
              "      <div>\n",
              "<style scoped>\n",
              "    .dataframe tbody tr th:only-of-type {\n",
              "        vertical-align: middle;\n",
              "    }\n",
              "\n",
              "    .dataframe tbody tr th {\n",
              "        vertical-align: top;\n",
              "    }\n",
              "\n",
              "    .dataframe thead th {\n",
              "        text-align: right;\n",
              "    }\n",
              "</style>\n",
              "<table border=\"1\" class=\"dataframe\">\n",
              "  <thead>\n",
              "    <tr style=\"text-align: right;\">\n",
              "      <th></th>\n",
              "      <th>STATUS</th>\n",
              "      <th>ASK_AMT</th>\n",
              "      <th>APPLICATION_TYPE_T10</th>\n",
              "      <th>APPLICATION_TYPE_T12</th>\n",
              "      <th>APPLICATION_TYPE_T13</th>\n",
              "      <th>APPLICATION_TYPE_T14</th>\n",
              "      <th>APPLICATION_TYPE_T15</th>\n",
              "      <th>APPLICATION_TYPE_T17</th>\n",
              "      <th>APPLICATION_TYPE_T19</th>\n",
              "      <th>APPLICATION_TYPE_T2</th>\n",
              "      <th>...</th>\n",
              "      <th>INCOME_AMT_0</th>\n",
              "      <th>INCOME_AMT_1-9999</th>\n",
              "      <th>INCOME_AMT_10000-24999</th>\n",
              "      <th>INCOME_AMT_100000-499999</th>\n",
              "      <th>INCOME_AMT_10M-50M</th>\n",
              "      <th>INCOME_AMT_1M-5M</th>\n",
              "      <th>INCOME_AMT_25000-99999</th>\n",
              "      <th>INCOME_AMT_50M+</th>\n",
              "      <th>INCOME_AMT_5M-10M</th>\n",
              "      <th>SPECIAL_CONSIDERATIONS_Y</th>\n",
              "    </tr>\n",
              "  </thead>\n",
              "  <tbody>\n",
              "    <tr>\n",
              "      <th>0</th>\n",
              "      <td>1</td>\n",
              "      <td>5000</td>\n",
              "      <td>1.0</td>\n",
              "      <td>0.0</td>\n",
              "      <td>0.0</td>\n",
              "      <td>0.0</td>\n",
              "      <td>0.0</td>\n",
              "      <td>0.0</td>\n",
              "      <td>0.0</td>\n",
              "      <td>0.0</td>\n",
              "      <td>...</td>\n",
              "      <td>1.0</td>\n",
              "      <td>0.0</td>\n",
              "      <td>0.0</td>\n",
              "      <td>0.0</td>\n",
              "      <td>0.0</td>\n",
              "      <td>0.0</td>\n",
              "      <td>0.0</td>\n",
              "      <td>0.0</td>\n",
              "      <td>0.0</td>\n",
              "      <td>0.0</td>\n",
              "    </tr>\n",
              "    <tr>\n",
              "      <th>1</th>\n",
              "      <td>1</td>\n",
              "      <td>108590</td>\n",
              "      <td>0.0</td>\n",
              "      <td>0.0</td>\n",
              "      <td>0.0</td>\n",
              "      <td>0.0</td>\n",
              "      <td>0.0</td>\n",
              "      <td>0.0</td>\n",
              "      <td>0.0</td>\n",
              "      <td>0.0</td>\n",
              "      <td>...</td>\n",
              "      <td>0.0</td>\n",
              "      <td>1.0</td>\n",
              "      <td>0.0</td>\n",
              "      <td>0.0</td>\n",
              "      <td>0.0</td>\n",
              "      <td>0.0</td>\n",
              "      <td>0.0</td>\n",
              "      <td>0.0</td>\n",
              "      <td>0.0</td>\n",
              "      <td>0.0</td>\n",
              "    </tr>\n",
              "    <tr>\n",
              "      <th>2</th>\n",
              "      <td>1</td>\n",
              "      <td>5000</td>\n",
              "      <td>0.0</td>\n",
              "      <td>0.0</td>\n",
              "      <td>0.0</td>\n",
              "      <td>0.0</td>\n",
              "      <td>0.0</td>\n",
              "      <td>0.0</td>\n",
              "      <td>0.0</td>\n",
              "      <td>0.0</td>\n",
              "      <td>...</td>\n",
              "      <td>1.0</td>\n",
              "      <td>0.0</td>\n",
              "      <td>0.0</td>\n",
              "      <td>0.0</td>\n",
              "      <td>0.0</td>\n",
              "      <td>0.0</td>\n",
              "      <td>0.0</td>\n",
              "      <td>0.0</td>\n",
              "      <td>0.0</td>\n",
              "      <td>0.0</td>\n",
              "    </tr>\n",
              "    <tr>\n",
              "      <th>3</th>\n",
              "      <td>1</td>\n",
              "      <td>6692</td>\n",
              "      <td>0.0</td>\n",
              "      <td>0.0</td>\n",
              "      <td>0.0</td>\n",
              "      <td>0.0</td>\n",
              "      <td>0.0</td>\n",
              "      <td>0.0</td>\n",
              "      <td>0.0</td>\n",
              "      <td>0.0</td>\n",
              "      <td>...</td>\n",
              "      <td>0.0</td>\n",
              "      <td>0.0</td>\n",
              "      <td>1.0</td>\n",
              "      <td>0.0</td>\n",
              "      <td>0.0</td>\n",
              "      <td>0.0</td>\n",
              "      <td>0.0</td>\n",
              "      <td>0.0</td>\n",
              "      <td>0.0</td>\n",
              "      <td>0.0</td>\n",
              "    </tr>\n",
              "    <tr>\n",
              "      <th>4</th>\n",
              "      <td>1</td>\n",
              "      <td>142590</td>\n",
              "      <td>0.0</td>\n",
              "      <td>0.0</td>\n",
              "      <td>0.0</td>\n",
              "      <td>0.0</td>\n",
              "      <td>0.0</td>\n",
              "      <td>0.0</td>\n",
              "      <td>0.0</td>\n",
              "      <td>0.0</td>\n",
              "      <td>...</td>\n",
              "      <td>0.0</td>\n",
              "      <td>0.0</td>\n",
              "      <td>0.0</td>\n",
              "      <td>1.0</td>\n",
              "      <td>0.0</td>\n",
              "      <td>0.0</td>\n",
              "      <td>0.0</td>\n",
              "      <td>0.0</td>\n",
              "      <td>0.0</td>\n",
              "      <td>0.0</td>\n",
              "    </tr>\n",
              "  </tbody>\n",
              "</table>\n",
              "<p>5 rows × 115 columns</p>\n",
              "</div>\n",
              "      <button class=\"colab-df-convert\" onclick=\"convertToInteractive('df-ec3c2d3d-a894-4769-8f29-1cbf87c4a2b3')\"\n",
              "              title=\"Convert this dataframe to an interactive table.\"\n",
              "              style=\"display:none;\">\n",
              "        \n",
              "  <svg xmlns=\"http://www.w3.org/2000/svg\" height=\"24px\"viewBox=\"0 0 24 24\"\n",
              "       width=\"24px\">\n",
              "    <path d=\"M0 0h24v24H0V0z\" fill=\"none\"/>\n",
              "    <path d=\"M18.56 5.44l.94 2.06.94-2.06 2.06-.94-2.06-.94-.94-2.06-.94 2.06-2.06.94zm-11 1L8.5 8.5l.94-2.06 2.06-.94-2.06-.94L8.5 2.5l-.94 2.06-2.06.94zm10 10l.94 2.06.94-2.06 2.06-.94-2.06-.94-.94-2.06-.94 2.06-2.06.94z\"/><path d=\"M17.41 7.96l-1.37-1.37c-.4-.4-.92-.59-1.43-.59-.52 0-1.04.2-1.43.59L10.3 9.45l-7.72 7.72c-.78.78-.78 2.05 0 2.83L4 21.41c.39.39.9.59 1.41.59.51 0 1.02-.2 1.41-.59l7.78-7.78 2.81-2.81c.8-.78.8-2.07 0-2.86zM5.41 20L4 18.59l7.72-7.72 1.47 1.35L5.41 20z\"/>\n",
              "  </svg>\n",
              "      </button>\n",
              "      \n",
              "  <style>\n",
              "    .colab-df-container {\n",
              "      display:flex;\n",
              "      flex-wrap:wrap;\n",
              "      gap: 12px;\n",
              "    }\n",
              "\n",
              "    .colab-df-convert {\n",
              "      background-color: #E8F0FE;\n",
              "      border: none;\n",
              "      border-radius: 50%;\n",
              "      cursor: pointer;\n",
              "      display: none;\n",
              "      fill: #1967D2;\n",
              "      height: 32px;\n",
              "      padding: 0 0 0 0;\n",
              "      width: 32px;\n",
              "    }\n",
              "\n",
              "    .colab-df-convert:hover {\n",
              "      background-color: #E2EBFA;\n",
              "      box-shadow: 0px 1px 2px rgba(60, 64, 67, 0.3), 0px 1px 3px 1px rgba(60, 64, 67, 0.15);\n",
              "      fill: #174EA6;\n",
              "    }\n",
              "\n",
              "    [theme=dark] .colab-df-convert {\n",
              "      background-color: #3B4455;\n",
              "      fill: #D2E3FC;\n",
              "    }\n",
              "\n",
              "    [theme=dark] .colab-df-convert:hover {\n",
              "      background-color: #434B5C;\n",
              "      box-shadow: 0px 1px 3px 1px rgba(0, 0, 0, 0.15);\n",
              "      filter: drop-shadow(0px 1px 2px rgba(0, 0, 0, 0.3));\n",
              "      fill: #FFFFFF;\n",
              "    }\n",
              "  </style>\n",
              "\n",
              "      <script>\n",
              "        const buttonEl =\n",
              "          document.querySelector('#df-ec3c2d3d-a894-4769-8f29-1cbf87c4a2b3 button.colab-df-convert');\n",
              "        buttonEl.style.display =\n",
              "          google.colab.kernel.accessAllowed ? 'block' : 'none';\n",
              "\n",
              "        async function convertToInteractive(key) {\n",
              "          const element = document.querySelector('#df-ec3c2d3d-a894-4769-8f29-1cbf87c4a2b3');\n",
              "          const dataTable =\n",
              "            await google.colab.kernel.invokeFunction('convertToInteractive',\n",
              "                                                     [key], {});\n",
              "          if (!dataTable) return;\n",
              "\n",
              "          const docLinkHtml = 'Like what you see? Visit the ' +\n",
              "            '<a target=\"_blank\" href=https://colab.research.google.com/notebooks/data_table.ipynb>data table notebook</a>'\n",
              "            + ' to learn more about interactive tables.';\n",
              "          element.innerHTML = '';\n",
              "          dataTable['output_type'] = 'display_data';\n",
              "          await google.colab.output.renderOutput(dataTable, element);\n",
              "          const docLink = document.createElement('div');\n",
              "          docLink.innerHTML = docLinkHtml;\n",
              "          element.appendChild(docLink);\n",
              "        }\n",
              "      </script>\n",
              "    </div>\n",
              "  </div>\n",
              "  "
            ]
          },
          "metadata": {},
          "execution_count": 14
        }
      ]
    },
    {
      "cell_type": "markdown",
      "metadata": {
        "id": "RJHzn3uyURsG"
      },
      "source": [
        "### Step 5: Using the preprocessed data, create the features (`X`) and target (`y`) datasets. The target dataset should be defined by the preprocessed DataFrame column “IS_SUCCESSFUL”. The remaining columns should define the features dataset. \n",
        "\n"
      ]
    },
    {
      "cell_type": "code",
      "metadata": {
        "id": "XpmWKy35URsG",
        "colab": {
          "base_uri": "https://localhost:8080/"
        },
        "outputId": "79adc6d6-d222-46e8-d838-2cdd1ca7b792"
      },
      "source": [
        "# Define the target set y using the IS_SUCCESSFUL column\n",
        "y = applicant_data_df['IS_SUCCESSFUL']\n",
        "\n",
        "# Display a sample of y\n",
        "y.head()\n"
      ],
      "execution_count": 15,
      "outputs": [
        {
          "output_type": "execute_result",
          "data": {
            "text/plain": [
              "0    1\n",
              "1    1\n",
              "2    0\n",
              "3    1\n",
              "4    1\n",
              "Name: IS_SUCCESSFUL, dtype: int64"
            ]
          },
          "metadata": {},
          "execution_count": 15
        }
      ]
    },
    {
      "cell_type": "code",
      "metadata": {
        "id": "SzVEfRlaURsG",
        "colab": {
          "base_uri": "https://localhost:8080/",
          "height": 316
        },
        "outputId": "42ca5324-d214-4f49-b9b7-5401466d47c0"
      },
      "source": [
        "# Define features set X by selecting all columns but IS_SUCCESSFUL\n",
        "X = encoded_df\n",
        "\n",
        "# Review the features DataFrame\n",
        "X.head()\n"
      ],
      "execution_count": 16,
      "outputs": [
        {
          "output_type": "execute_result",
          "data": {
            "text/plain": [
              "   STATUS  ASK_AMT  APPLICATION_TYPE_T10  APPLICATION_TYPE_T12  \\\n",
              "0       1     5000                   1.0                   0.0   \n",
              "1       1   108590                   0.0                   0.0   \n",
              "2       1     5000                   0.0                   0.0   \n",
              "3       1     6692                   0.0                   0.0   \n",
              "4       1   142590                   0.0                   0.0   \n",
              "\n",
              "   APPLICATION_TYPE_T13  APPLICATION_TYPE_T14  APPLICATION_TYPE_T15  \\\n",
              "0                   0.0                   0.0                   0.0   \n",
              "1                   0.0                   0.0                   0.0   \n",
              "2                   0.0                   0.0                   0.0   \n",
              "3                   0.0                   0.0                   0.0   \n",
              "4                   0.0                   0.0                   0.0   \n",
              "\n",
              "   APPLICATION_TYPE_T17  APPLICATION_TYPE_T19  APPLICATION_TYPE_T2  ...  \\\n",
              "0                   0.0                   0.0                  0.0  ...   \n",
              "1                   0.0                   0.0                  0.0  ...   \n",
              "2                   0.0                   0.0                  0.0  ...   \n",
              "3                   0.0                   0.0                  0.0  ...   \n",
              "4                   0.0                   0.0                  0.0  ...   \n",
              "\n",
              "   INCOME_AMT_0  INCOME_AMT_1-9999  INCOME_AMT_10000-24999  \\\n",
              "0           1.0                0.0                     0.0   \n",
              "1           0.0                1.0                     0.0   \n",
              "2           1.0                0.0                     0.0   \n",
              "3           0.0                0.0                     1.0   \n",
              "4           0.0                0.0                     0.0   \n",
              "\n",
              "   INCOME_AMT_100000-499999  INCOME_AMT_10M-50M  INCOME_AMT_1M-5M  \\\n",
              "0                       0.0                 0.0               0.0   \n",
              "1                       0.0                 0.0               0.0   \n",
              "2                       0.0                 0.0               0.0   \n",
              "3                       0.0                 0.0               0.0   \n",
              "4                       1.0                 0.0               0.0   \n",
              "\n",
              "   INCOME_AMT_25000-99999  INCOME_AMT_50M+  INCOME_AMT_5M-10M  \\\n",
              "0                     0.0              0.0                0.0   \n",
              "1                     0.0              0.0                0.0   \n",
              "2                     0.0              0.0                0.0   \n",
              "3                     0.0              0.0                0.0   \n",
              "4                     0.0              0.0                0.0   \n",
              "\n",
              "   SPECIAL_CONSIDERATIONS_Y  \n",
              "0                       0.0  \n",
              "1                       0.0  \n",
              "2                       0.0  \n",
              "3                       0.0  \n",
              "4                       0.0  \n",
              "\n",
              "[5 rows x 115 columns]"
            ],
            "text/html": [
              "\n",
              "  <div id=\"df-74f7006d-f806-41f4-b546-f7ffcc572d53\">\n",
              "    <div class=\"colab-df-container\">\n",
              "      <div>\n",
              "<style scoped>\n",
              "    .dataframe tbody tr th:only-of-type {\n",
              "        vertical-align: middle;\n",
              "    }\n",
              "\n",
              "    .dataframe tbody tr th {\n",
              "        vertical-align: top;\n",
              "    }\n",
              "\n",
              "    .dataframe thead th {\n",
              "        text-align: right;\n",
              "    }\n",
              "</style>\n",
              "<table border=\"1\" class=\"dataframe\">\n",
              "  <thead>\n",
              "    <tr style=\"text-align: right;\">\n",
              "      <th></th>\n",
              "      <th>STATUS</th>\n",
              "      <th>ASK_AMT</th>\n",
              "      <th>APPLICATION_TYPE_T10</th>\n",
              "      <th>APPLICATION_TYPE_T12</th>\n",
              "      <th>APPLICATION_TYPE_T13</th>\n",
              "      <th>APPLICATION_TYPE_T14</th>\n",
              "      <th>APPLICATION_TYPE_T15</th>\n",
              "      <th>APPLICATION_TYPE_T17</th>\n",
              "      <th>APPLICATION_TYPE_T19</th>\n",
              "      <th>APPLICATION_TYPE_T2</th>\n",
              "      <th>...</th>\n",
              "      <th>INCOME_AMT_0</th>\n",
              "      <th>INCOME_AMT_1-9999</th>\n",
              "      <th>INCOME_AMT_10000-24999</th>\n",
              "      <th>INCOME_AMT_100000-499999</th>\n",
              "      <th>INCOME_AMT_10M-50M</th>\n",
              "      <th>INCOME_AMT_1M-5M</th>\n",
              "      <th>INCOME_AMT_25000-99999</th>\n",
              "      <th>INCOME_AMT_50M+</th>\n",
              "      <th>INCOME_AMT_5M-10M</th>\n",
              "      <th>SPECIAL_CONSIDERATIONS_Y</th>\n",
              "    </tr>\n",
              "  </thead>\n",
              "  <tbody>\n",
              "    <tr>\n",
              "      <th>0</th>\n",
              "      <td>1</td>\n",
              "      <td>5000</td>\n",
              "      <td>1.0</td>\n",
              "      <td>0.0</td>\n",
              "      <td>0.0</td>\n",
              "      <td>0.0</td>\n",
              "      <td>0.0</td>\n",
              "      <td>0.0</td>\n",
              "      <td>0.0</td>\n",
              "      <td>0.0</td>\n",
              "      <td>...</td>\n",
              "      <td>1.0</td>\n",
              "      <td>0.0</td>\n",
              "      <td>0.0</td>\n",
              "      <td>0.0</td>\n",
              "      <td>0.0</td>\n",
              "      <td>0.0</td>\n",
              "      <td>0.0</td>\n",
              "      <td>0.0</td>\n",
              "      <td>0.0</td>\n",
              "      <td>0.0</td>\n",
              "    </tr>\n",
              "    <tr>\n",
              "      <th>1</th>\n",
              "      <td>1</td>\n",
              "      <td>108590</td>\n",
              "      <td>0.0</td>\n",
              "      <td>0.0</td>\n",
              "      <td>0.0</td>\n",
              "      <td>0.0</td>\n",
              "      <td>0.0</td>\n",
              "      <td>0.0</td>\n",
              "      <td>0.0</td>\n",
              "      <td>0.0</td>\n",
              "      <td>...</td>\n",
              "      <td>0.0</td>\n",
              "      <td>1.0</td>\n",
              "      <td>0.0</td>\n",
              "      <td>0.0</td>\n",
              "      <td>0.0</td>\n",
              "      <td>0.0</td>\n",
              "      <td>0.0</td>\n",
              "      <td>0.0</td>\n",
              "      <td>0.0</td>\n",
              "      <td>0.0</td>\n",
              "    </tr>\n",
              "    <tr>\n",
              "      <th>2</th>\n",
              "      <td>1</td>\n",
              "      <td>5000</td>\n",
              "      <td>0.0</td>\n",
              "      <td>0.0</td>\n",
              "      <td>0.0</td>\n",
              "      <td>0.0</td>\n",
              "      <td>0.0</td>\n",
              "      <td>0.0</td>\n",
              "      <td>0.0</td>\n",
              "      <td>0.0</td>\n",
              "      <td>...</td>\n",
              "      <td>1.0</td>\n",
              "      <td>0.0</td>\n",
              "      <td>0.0</td>\n",
              "      <td>0.0</td>\n",
              "      <td>0.0</td>\n",
              "      <td>0.0</td>\n",
              "      <td>0.0</td>\n",
              "      <td>0.0</td>\n",
              "      <td>0.0</td>\n",
              "      <td>0.0</td>\n",
              "    </tr>\n",
              "    <tr>\n",
              "      <th>3</th>\n",
              "      <td>1</td>\n",
              "      <td>6692</td>\n",
              "      <td>0.0</td>\n",
              "      <td>0.0</td>\n",
              "      <td>0.0</td>\n",
              "      <td>0.0</td>\n",
              "      <td>0.0</td>\n",
              "      <td>0.0</td>\n",
              "      <td>0.0</td>\n",
              "      <td>0.0</td>\n",
              "      <td>...</td>\n",
              "      <td>0.0</td>\n",
              "      <td>0.0</td>\n",
              "      <td>1.0</td>\n",
              "      <td>0.0</td>\n",
              "      <td>0.0</td>\n",
              "      <td>0.0</td>\n",
              "      <td>0.0</td>\n",
              "      <td>0.0</td>\n",
              "      <td>0.0</td>\n",
              "      <td>0.0</td>\n",
              "    </tr>\n",
              "    <tr>\n",
              "      <th>4</th>\n",
              "      <td>1</td>\n",
              "      <td>142590</td>\n",
              "      <td>0.0</td>\n",
              "      <td>0.0</td>\n",
              "      <td>0.0</td>\n",
              "      <td>0.0</td>\n",
              "      <td>0.0</td>\n",
              "      <td>0.0</td>\n",
              "      <td>0.0</td>\n",
              "      <td>0.0</td>\n",
              "      <td>...</td>\n",
              "      <td>0.0</td>\n",
              "      <td>0.0</td>\n",
              "      <td>0.0</td>\n",
              "      <td>1.0</td>\n",
              "      <td>0.0</td>\n",
              "      <td>0.0</td>\n",
              "      <td>0.0</td>\n",
              "      <td>0.0</td>\n",
              "      <td>0.0</td>\n",
              "      <td>0.0</td>\n",
              "    </tr>\n",
              "  </tbody>\n",
              "</table>\n",
              "<p>5 rows × 115 columns</p>\n",
              "</div>\n",
              "      <button class=\"colab-df-convert\" onclick=\"convertToInteractive('df-74f7006d-f806-41f4-b546-f7ffcc572d53')\"\n",
              "              title=\"Convert this dataframe to an interactive table.\"\n",
              "              style=\"display:none;\">\n",
              "        \n",
              "  <svg xmlns=\"http://www.w3.org/2000/svg\" height=\"24px\"viewBox=\"0 0 24 24\"\n",
              "       width=\"24px\">\n",
              "    <path d=\"M0 0h24v24H0V0z\" fill=\"none\"/>\n",
              "    <path d=\"M18.56 5.44l.94 2.06.94-2.06 2.06-.94-2.06-.94-.94-2.06-.94 2.06-2.06.94zm-11 1L8.5 8.5l.94-2.06 2.06-.94-2.06-.94L8.5 2.5l-.94 2.06-2.06.94zm10 10l.94 2.06.94-2.06 2.06-.94-2.06-.94-.94-2.06-.94 2.06-2.06.94z\"/><path d=\"M17.41 7.96l-1.37-1.37c-.4-.4-.92-.59-1.43-.59-.52 0-1.04.2-1.43.59L10.3 9.45l-7.72 7.72c-.78.78-.78 2.05 0 2.83L4 21.41c.39.39.9.59 1.41.59.51 0 1.02-.2 1.41-.59l7.78-7.78 2.81-2.81c.8-.78.8-2.07 0-2.86zM5.41 20L4 18.59l7.72-7.72 1.47 1.35L5.41 20z\"/>\n",
              "  </svg>\n",
              "      </button>\n",
              "      \n",
              "  <style>\n",
              "    .colab-df-container {\n",
              "      display:flex;\n",
              "      flex-wrap:wrap;\n",
              "      gap: 12px;\n",
              "    }\n",
              "\n",
              "    .colab-df-convert {\n",
              "      background-color: #E8F0FE;\n",
              "      border: none;\n",
              "      border-radius: 50%;\n",
              "      cursor: pointer;\n",
              "      display: none;\n",
              "      fill: #1967D2;\n",
              "      height: 32px;\n",
              "      padding: 0 0 0 0;\n",
              "      width: 32px;\n",
              "    }\n",
              "\n",
              "    .colab-df-convert:hover {\n",
              "      background-color: #E2EBFA;\n",
              "      box-shadow: 0px 1px 2px rgba(60, 64, 67, 0.3), 0px 1px 3px 1px rgba(60, 64, 67, 0.15);\n",
              "      fill: #174EA6;\n",
              "    }\n",
              "\n",
              "    [theme=dark] .colab-df-convert {\n",
              "      background-color: #3B4455;\n",
              "      fill: #D2E3FC;\n",
              "    }\n",
              "\n",
              "    [theme=dark] .colab-df-convert:hover {\n",
              "      background-color: #434B5C;\n",
              "      box-shadow: 0px 1px 3px 1px rgba(0, 0, 0, 0.15);\n",
              "      filter: drop-shadow(0px 1px 2px rgba(0, 0, 0, 0.3));\n",
              "      fill: #FFFFFF;\n",
              "    }\n",
              "  </style>\n",
              "\n",
              "      <script>\n",
              "        const buttonEl =\n",
              "          document.querySelector('#df-74f7006d-f806-41f4-b546-f7ffcc572d53 button.colab-df-convert');\n",
              "        buttonEl.style.display =\n",
              "          google.colab.kernel.accessAllowed ? 'block' : 'none';\n",
              "\n",
              "        async function convertToInteractive(key) {\n",
              "          const element = document.querySelector('#df-74f7006d-f806-41f4-b546-f7ffcc572d53');\n",
              "          const dataTable =\n",
              "            await google.colab.kernel.invokeFunction('convertToInteractive',\n",
              "                                                     [key], {});\n",
              "          if (!dataTable) return;\n",
              "\n",
              "          const docLinkHtml = 'Like what you see? Visit the ' +\n",
              "            '<a target=\"_blank\" href=https://colab.research.google.com/notebooks/data_table.ipynb>data table notebook</a>'\n",
              "            + ' to learn more about interactive tables.';\n",
              "          element.innerHTML = '';\n",
              "          dataTable['output_type'] = 'display_data';\n",
              "          await google.colab.output.renderOutput(dataTable, element);\n",
              "          const docLink = document.createElement('div');\n",
              "          docLink.innerHTML = docLinkHtml;\n",
              "          element.appendChild(docLink);\n",
              "        }\n",
              "      </script>\n",
              "    </div>\n",
              "  </div>\n",
              "  "
            ]
          },
          "metadata": {},
          "execution_count": 16
        }
      ]
    },
    {
      "cell_type": "markdown",
      "metadata": {
        "id": "Wgb0PFDKURsG"
      },
      "source": [
        "### Step 6: Split the features and target sets into training and testing datasets.\n"
      ]
    },
    {
      "cell_type": "code",
      "metadata": {
        "id": "M_vGfjV4URsG"
      },
      "source": [
        "# Split the preprocessed data into a training and testing dataset\n",
        "# Assign the function a random_state equal to 1\n",
        "X_train, X_test, y_train, y_test = train_test_split(X,y,random_state=1)\n"
      ],
      "execution_count": 17,
      "outputs": []
    },
    {
      "cell_type": "markdown",
      "metadata": {
        "id": "hDcNY8TGURsG"
      },
      "source": [
        "### Step 7: Use scikit-learn's `StandardScaler` to scale the features data."
      ]
    },
    {
      "cell_type": "code",
      "metadata": {
        "id": "MWOH8vl-URsG"
      },
      "source": [
        "# Create a StandardScaler instance\n",
        "scaler = StandardScaler()\n",
        "\n",
        "# Fit the scaler to the features training dataset\n",
        "X_scaler = scaler.fit(X_train)\n",
        "\n",
        "# Fit the scaler to the features training dataset\n",
        "X_train_scaled = X_scaler.transform(X_train)\n",
        "X_test_scaled = X_scaler.transform(X_test)\n"
      ],
      "execution_count": 18,
      "outputs": []
    },
    {
      "cell_type": "markdown",
      "metadata": {
        "id": "RvE_rJAAURsH"
      },
      "source": [
        "---\n",
        "\n",
        "## Compile and Evaluate a Binary Classification Model Using a Neural Network"
      ]
    },
    {
      "cell_type": "markdown",
      "metadata": {
        "id": "mLD8vtTqURsH"
      },
      "source": [
        "### Step 1: Create a deep neural network by assigning the number of input features, the number of layers, and the number of neurons on each layer using Tensorflow’s Keras.\n",
        "\n",
        "> **Hint** You can start with a two-layer deep neural network model that uses the `relu` activation function for both layers.\n"
      ]
    },
    {
      "cell_type": "code",
      "metadata": {
        "id": "K1Vgwz04URsH",
        "colab": {
          "base_uri": "https://localhost:8080/"
        },
        "outputId": "c5d175e3-8598-49fb-f28d-a77e0e75bf95"
      },
      "source": [
        "# Define the the number of inputs (features) to the model\n",
        "number_input_features = len(X_train.iloc[0])\n",
        "\n",
        "# Review the number of features \n",
        "number_input_features\n"
      ],
      "execution_count": 19,
      "outputs": [
        {
          "output_type": "execute_result",
          "data": {
            "text/plain": [
              "115"
            ]
          },
          "metadata": {},
          "execution_count": 19
        }
      ]
    },
    {
      "cell_type": "code",
      "metadata": {
        "id": "0mcgkl8SURsH"
      },
      "source": [
        "# Define the number of neurons in the output layer\n",
        "number_output_neurons = 1"
      ],
      "execution_count": 20,
      "outputs": []
    },
    {
      "cell_type": "code",
      "metadata": {
        "id": "i0Q3iY3wURsH",
        "colab": {
          "base_uri": "https://localhost:8080/"
        },
        "outputId": "5c47a514-cf1d-4c05-d2ff-83d9585a6c82"
      },
      "source": [
        "# Define the number of hidden nodes for the first hidden layer\n",
        "# per 13.2.3 - first approximation (number of input features + number of neurons in output layer) / 2\n",
        "hidden_nodes_layer1 =  58 # (115+1)/2\n",
        "\n",
        "# Review the number hidden nodes in the first layer\n",
        "hidden_nodes_layer1\n"
      ],
      "execution_count": 21,
      "outputs": [
        {
          "output_type": "execute_result",
          "data": {
            "text/plain": [
              "58"
            ]
          },
          "metadata": {},
          "execution_count": 21
        }
      ]
    },
    {
      "cell_type": "code",
      "metadata": {
        "id": "Ux_lAsrvURsH",
        "colab": {
          "base_uri": "https://localhost:8080/"
        },
        "outputId": "fb0f5394-27b6-4dd7-d87b-467aaf5878d4"
      },
      "source": [
        "# Define the number of hidden nodes for the second hidden layer\n",
        "# per 13.2.3 - approximately (number of neurons in the prior hidden layer + number of neurons in output layer) / 2)\n",
        "hidden_nodes_layer2 =  30  # (58+1)/2\n",
        "\n",
        "# Review the number hidden nodes in the second layer\n",
        "hidden_nodes_layer2\n"
      ],
      "execution_count": 22,
      "outputs": [
        {
          "output_type": "execute_result",
          "data": {
            "text/plain": [
              "30"
            ]
          },
          "metadata": {},
          "execution_count": 22
        }
      ]
    },
    {
      "cell_type": "code",
      "metadata": {
        "id": "1kq9QWhLURsH"
      },
      "source": [
        "# Create the Sequential model instance\n",
        "nn = Sequential()\n"
      ],
      "execution_count": 23,
      "outputs": []
    },
    {
      "cell_type": "code",
      "metadata": {
        "id": "NcVrWCD_URsI"
      },
      "source": [
        "# Add the first hidden layer\n",
        "nn.add(Dense(units=hidden_nodes_layer1,input_dim=number_input_features,activation='relu'))"
      ],
      "execution_count": 24,
      "outputs": []
    },
    {
      "cell_type": "code",
      "metadata": {
        "id": "Ugxr6lisURsI"
      },
      "source": [
        "# Add the second hidden layer\n",
        "nn.add(Dense(units=hidden_nodes_layer2,activation='relu'))"
      ],
      "execution_count": 25,
      "outputs": []
    },
    {
      "cell_type": "code",
      "metadata": {
        "id": "QxcGEyNoURsI"
      },
      "source": [
        "# Add the output layer to the model specifying the number of output neurons and activation function\n",
        "nn.add(Dense(units=1,activation='sigmoid'))"
      ],
      "execution_count": 26,
      "outputs": []
    },
    {
      "cell_type": "code",
      "metadata": {
        "id": "1L2ZVcXgURsI",
        "colab": {
          "base_uri": "https://localhost:8080/"
        },
        "outputId": "68d95cfd-903d-4bbd-d567-87170bf749cf"
      },
      "source": [
        "# Display the Sequential model summary\n",
        "nn.summary()"
      ],
      "execution_count": 27,
      "outputs": [
        {
          "output_type": "stream",
          "name": "stdout",
          "text": [
            "Model: \"sequential\"\n",
            "_________________________________________________________________\n",
            " Layer (type)                Output Shape              Param #   \n",
            "=================================================================\n",
            " dense (Dense)               (None, 58)                6728      \n",
            "                                                                 \n",
            " dense_1 (Dense)             (None, 30)                1770      \n",
            "                                                                 \n",
            " dense_2 (Dense)             (None, 1)                 31        \n",
            "                                                                 \n",
            "=================================================================\n",
            "Total params: 8,529\n",
            "Trainable params: 8,529\n",
            "Non-trainable params: 0\n",
            "_________________________________________________________________\n"
          ]
        }
      ]
    },
    {
      "cell_type": "markdown",
      "metadata": {
        "id": "pzoKsvI3URsI"
      },
      "source": [
        "### Step 2: Compile and fit the model using the `binary_crossentropy` loss function, the `adam` optimizer, and the `accuracy` evaluation metric.\n"
      ]
    },
    {
      "cell_type": "code",
      "metadata": {
        "id": "PR8r_cL1URsI"
      },
      "source": [
        "# Compile the Sequential model\n",
        "# loss is binary_crossentropy sicne model is binary classification\n",
        "nn.compile(loss='binary_crossentropy',optimizer='adam',metrics=['accuracy'])\n"
      ],
      "execution_count": 28,
      "outputs": []
    },
    {
      "cell_type": "code",
      "metadata": {
        "id": "5_z-FPHJURsI",
        "colab": {
          "base_uri": "https://localhost:8080/"
        },
        "outputId": "c836992e-f0c1-498a-ba50-4d676643ae68"
      },
      "source": [
        "# Fit the model using 50 epochs and the training data\n",
        "nn.fit(X_train_scaled,y_train,epochs=50)\n"
      ],
      "execution_count": 29,
      "outputs": [
        {
          "output_type": "stream",
          "name": "stdout",
          "text": [
            "Epoch 1/50\n",
            "804/804 [==============================] - 2s 2ms/step - loss: 0.5748 - accuracy: 0.7191\n",
            "Epoch 2/50\n",
            "804/804 [==============================] - 2s 2ms/step - loss: 0.5528 - accuracy: 0.7288\n",
            "Epoch 3/50\n",
            "804/804 [==============================] - 2s 2ms/step - loss: 0.5495 - accuracy: 0.7303\n",
            "Epoch 4/50\n",
            "804/804 [==============================] - 2s 2ms/step - loss: 0.5477 - accuracy: 0.7330\n",
            "Epoch 5/50\n",
            "804/804 [==============================] - 2s 2ms/step - loss: 0.5460 - accuracy: 0.7299\n",
            "Epoch 6/50\n",
            "804/804 [==============================] - 2s 2ms/step - loss: 0.5449 - accuracy: 0.7343\n",
            "Epoch 7/50\n",
            "804/804 [==============================] - 2s 2ms/step - loss: 0.5442 - accuracy: 0.7346\n",
            "Epoch 8/50\n",
            "804/804 [==============================] - 2s 2ms/step - loss: 0.5433 - accuracy: 0.7357\n",
            "Epoch 9/50\n",
            "804/804 [==============================] - 2s 2ms/step - loss: 0.5421 - accuracy: 0.7359\n",
            "Epoch 10/50\n",
            "804/804 [==============================] - 2s 2ms/step - loss: 0.5416 - accuracy: 0.7364\n",
            "Epoch 11/50\n",
            "804/804 [==============================] - 2s 2ms/step - loss: 0.5417 - accuracy: 0.7345\n",
            "Epoch 12/50\n",
            "804/804 [==============================] - 2s 2ms/step - loss: 0.5406 - accuracy: 0.7347\n",
            "Epoch 13/50\n",
            "804/804 [==============================] - 2s 2ms/step - loss: 0.5405 - accuracy: 0.7359\n",
            "Epoch 14/50\n",
            "804/804 [==============================] - 2s 2ms/step - loss: 0.5396 - accuracy: 0.7374\n",
            "Epoch 15/50\n",
            "804/804 [==============================] - 2s 2ms/step - loss: 0.5391 - accuracy: 0.7374\n",
            "Epoch 16/50\n",
            "804/804 [==============================] - 2s 2ms/step - loss: 0.5389 - accuracy: 0.7374\n",
            "Epoch 17/50\n",
            "804/804 [==============================] - 2s 2ms/step - loss: 0.5381 - accuracy: 0.7370\n",
            "Epoch 18/50\n",
            "804/804 [==============================] - 2s 2ms/step - loss: 0.5382 - accuracy: 0.7379\n",
            "Epoch 19/50\n",
            "804/804 [==============================] - 2s 2ms/step - loss: 0.5374 - accuracy: 0.7383\n",
            "Epoch 20/50\n",
            "804/804 [==============================] - 2s 2ms/step - loss: 0.5371 - accuracy: 0.7389\n",
            "Epoch 21/50\n",
            "804/804 [==============================] - 2s 2ms/step - loss: 0.5366 - accuracy: 0.7383\n",
            "Epoch 22/50\n",
            "804/804 [==============================] - 2s 2ms/step - loss: 0.5362 - accuracy: 0.7386\n",
            "Epoch 23/50\n",
            "804/804 [==============================] - 2s 2ms/step - loss: 0.5367 - accuracy: 0.7384\n",
            "Epoch 24/50\n",
            "804/804 [==============================] - 2s 2ms/step - loss: 0.5362 - accuracy: 0.7374\n",
            "Epoch 25/50\n",
            "804/804 [==============================] - 2s 2ms/step - loss: 0.5362 - accuracy: 0.7392\n",
            "Epoch 26/50\n",
            "804/804 [==============================] - 2s 2ms/step - loss: 0.5353 - accuracy: 0.7393\n",
            "Epoch 27/50\n",
            "804/804 [==============================] - 2s 2ms/step - loss: 0.5353 - accuracy: 0.7386\n",
            "Epoch 28/50\n",
            "804/804 [==============================] - 2s 2ms/step - loss: 0.5355 - accuracy: 0.7381\n",
            "Epoch 29/50\n",
            "804/804 [==============================] - 2s 2ms/step - loss: 0.5348 - accuracy: 0.7384\n",
            "Epoch 30/50\n",
            "804/804 [==============================] - 2s 2ms/step - loss: 0.5347 - accuracy: 0.7389\n",
            "Epoch 31/50\n",
            "804/804 [==============================] - 2s 2ms/step - loss: 0.5339 - accuracy: 0.7401\n",
            "Epoch 32/50\n",
            "804/804 [==============================] - 2s 2ms/step - loss: 0.5342 - accuracy: 0.7401\n",
            "Epoch 33/50\n",
            "804/804 [==============================] - 2s 2ms/step - loss: 0.5340 - accuracy: 0.7397\n",
            "Epoch 34/50\n",
            "804/804 [==============================] - 2s 2ms/step - loss: 0.5340 - accuracy: 0.7398\n",
            "Epoch 35/50\n",
            "804/804 [==============================] - 2s 2ms/step - loss: 0.5332 - accuracy: 0.7393\n",
            "Epoch 36/50\n",
            "804/804 [==============================] - 2s 2ms/step - loss: 0.5338 - accuracy: 0.7394\n",
            "Epoch 37/50\n",
            "804/804 [==============================] - 2s 2ms/step - loss: 0.5333 - accuracy: 0.7401\n",
            "Epoch 38/50\n",
            "804/804 [==============================] - 2s 2ms/step - loss: 0.5331 - accuracy: 0.7399\n",
            "Epoch 39/50\n",
            "804/804 [==============================] - 2s 2ms/step - loss: 0.5329 - accuracy: 0.7397\n",
            "Epoch 40/50\n",
            "804/804 [==============================] - 2s 2ms/step - loss: 0.5328 - accuracy: 0.7411\n",
            "Epoch 41/50\n",
            "804/804 [==============================] - 2s 2ms/step - loss: 0.5326 - accuracy: 0.7404\n",
            "Epoch 42/50\n",
            "804/804 [==============================] - 2s 2ms/step - loss: 0.5326 - accuracy: 0.7408\n",
            "Epoch 43/50\n",
            "804/804 [==============================] - 2s 2ms/step - loss: 0.5325 - accuracy: 0.7400\n",
            "Epoch 44/50\n",
            "804/804 [==============================] - 2s 2ms/step - loss: 0.5323 - accuracy: 0.7410\n",
            "Epoch 45/50\n",
            "804/804 [==============================] - 2s 2ms/step - loss: 0.5317 - accuracy: 0.7410\n",
            "Epoch 46/50\n",
            "804/804 [==============================] - 2s 2ms/step - loss: 0.5319 - accuracy: 0.7406\n",
            "Epoch 47/50\n",
            "804/804 [==============================] - 2s 2ms/step - loss: 0.5320 - accuracy: 0.7397\n",
            "Epoch 48/50\n",
            "804/804 [==============================] - 2s 2ms/step - loss: 0.5321 - accuracy: 0.7407\n",
            "Epoch 49/50\n",
            "804/804 [==============================] - 2s 2ms/step - loss: 0.5317 - accuracy: 0.7413\n",
            "Epoch 50/50\n",
            "804/804 [==============================] - 2s 2ms/step - loss: 0.5312 - accuracy: 0.7419\n"
          ]
        },
        {
          "output_type": "execute_result",
          "data": {
            "text/plain": [
              "<keras.callbacks.History at 0x7fdcab0de910>"
            ]
          },
          "metadata": {},
          "execution_count": 29
        }
      ]
    },
    {
      "cell_type": "markdown",
      "metadata": {
        "id": "JIbFSQ-FURsI"
      },
      "source": [
        "### Step 3: Evaluate the model using the test data to determine the model’s loss and accuracy.\n"
      ]
    },
    {
      "cell_type": "code",
      "metadata": {
        "id": "rWaHGdGrURsI",
        "colab": {
          "base_uri": "https://localhost:8080/"
        },
        "outputId": "446a2b06-1546-459b-8088-b998e8473dd1"
      },
      "source": [
        "# Evaluate the model loss and accuracy metrics using the evaluate method and the test data\n",
        "model_loss, model_accuracy = nn.evaluate(X_test_scaled, y_test, verbose=2)\n",
        "\n",
        "# Display the model loss and accuracy results\n",
        "print(f\"Loss: {model_loss}, Accuracy: {model_accuracy}\")"
      ],
      "execution_count": 30,
      "outputs": [
        {
          "output_type": "stream",
          "name": "stdout",
          "text": [
            "268/268 - 0s - loss: 0.5553 - accuracy: 0.7291 - 436ms/epoch - 2ms/step\n",
            "Loss: 0.5553061366081238, Accuracy: 0.7290962338447571\n"
          ]
        }
      ]
    },
    {
      "cell_type": "markdown",
      "metadata": {
        "id": "ppT2iIP5URsJ"
      },
      "source": [
        "### Step 4: Save and export your model to an HDF5 file, and name the file `AlphabetSoup.h5`. \n"
      ]
    },
    {
      "cell_type": "code",
      "metadata": {
        "id": "iOuA28RQURsJ"
      },
      "source": [
        "# Set the model's file path\n",
        "file_path = 'AlphabetSoup.h5'\n",
        "\n",
        "# Export your model to a HDF5 file\n",
        "nn.save(file_path)\n"
      ],
      "execution_count": 31,
      "outputs": []
    },
    {
      "cell_type": "markdown",
      "metadata": {
        "id": "xlN5E4WfURsJ"
      },
      "source": [
        "---\n",
        "\n",
        "## Optimize the neural network model\n"
      ]
    },
    {
      "cell_type": "markdown",
      "metadata": {
        "id": "0q7pN2XKURsJ"
      },
      "source": [
        "### Step 1: Define at least three new deep neural network models (resulting in the original plus 3 optimization attempts). With each, try to improve on your first model’s predictive accuracy.\n",
        "\n",
        "> **Rewind** Recall that perfect accuracy has a value of 1, so accuracy improves as its value moves closer to 1. To optimize your model for a predictive accuracy as close to 1 as possible, you can use any or all of the following techniques:\n",
        ">\n",
        "> * Adjust the input data by dropping different features columns to ensure that no variables or outliers confuse the model.\n",
        ">\n",
        "> * Add more neurons (nodes) to a hidden layer.\n",
        ">\n",
        "> * Add more hidden layers.\n",
        ">\n",
        "> * Use different activation functions for the hidden layers.\n",
        ">\n",
        "> * Add to or reduce the number of epochs in the training regimen.\n"
      ]
    },
    {
      "cell_type": "markdown",
      "metadata": {
        "id": "slhZ-iS1URsJ"
      },
      "source": [
        "### Alternative Model 1\n",
        "\n",
        "Explore whether increasing the size of the hidder layers improved model effeciency.\n"
      ]
    },
    {
      "cell_type": "code",
      "metadata": {
        "id": "zqbrMOgCURsJ",
        "colab": {
          "base_uri": "https://localhost:8080/"
        },
        "outputId": "464f1298-9922-4855-c21f-d61faca7066f"
      },
      "source": [
        "# Define the the number of inputs (features) to the model\n",
        "number_input_features = len(X_train.iloc[0])\n",
        "\n",
        "# Review the number of features\n",
        "number_input_features"
      ],
      "execution_count": 32,
      "outputs": [
        {
          "output_type": "execute_result",
          "data": {
            "text/plain": [
              "115"
            ]
          },
          "metadata": {},
          "execution_count": 32
        }
      ]
    },
    {
      "cell_type": "code",
      "metadata": {
        "id": "U3rrh76sURsJ"
      },
      "source": [
        "# Define the number of neurons in the output layer\n",
        "number_output_neurons_A1 = 1"
      ],
      "execution_count": 33,
      "outputs": []
    },
    {
      "cell_type": "code",
      "metadata": {
        "id": "lMOrWGBKURsJ",
        "colab": {
          "base_uri": "https://localhost:8080/"
        },
        "outputId": "343be3f2-a6d2-421f-ceb1-3bdca29a6cbe"
      },
      "source": [
        "# Define the number of hidden nodes for the first hidden layer\n",
        "# following instructor's recommendation, \n",
        "# hidden layer 1 should have 2 * input rounded up to next power of 2\n",
        "# 115 * 2 rounded up to 256\n",
        "hidden_nodes_layer1_A1 = 256\n",
        "\n",
        "# Review the number of hidden nodes in the first layer\n",
        "hidden_nodes_layer1_A1"
      ],
      "execution_count": 34,
      "outputs": [
        {
          "output_type": "execute_result",
          "data": {
            "text/plain": [
              "256"
            ]
          },
          "metadata": {},
          "execution_count": 34
        }
      ]
    },
    {
      "cell_type": "code",
      "source": [
        "# Define the number of hidden nodes for the second hidden layer\n",
        "# following guideline in 13.2.3, node count should rougly be \n",
        "# (# of nodes in prior layer + # of output nodes)/2\n",
        "# roughly 128\n",
        "hidden_nodes_layer2_A1 = 128\n",
        "\n",
        "# Review the number of hidden nodes in the second layer\n",
        "hidden_nodes_layer2_A1"
      ],
      "metadata": {
        "colab": {
          "base_uri": "https://localhost:8080/"
        },
        "id": "V6dfg6WnbCzE",
        "outputId": "48a027d1-d57e-46ac-bd25-4c25972c1c0d"
      },
      "execution_count": 35,
      "outputs": [
        {
          "output_type": "execute_result",
          "data": {
            "text/plain": [
              "128"
            ]
          },
          "metadata": {},
          "execution_count": 35
        }
      ]
    },
    {
      "cell_type": "code",
      "metadata": {
        "id": "efNsx7TfURsK"
      },
      "source": [
        "# Create the Sequential model instance\n",
        "nn_A1 = Sequential()"
      ],
      "execution_count": 36,
      "outputs": []
    },
    {
      "cell_type": "code",
      "metadata": {
        "id": "0uMhdXQWURsK",
        "colab": {
          "base_uri": "https://localhost:8080/"
        },
        "outputId": "37a57cff-c847-4733-96b2-0d4cf85931da"
      },
      "source": [
        "# First hidden layer\n",
        "nn_A1.add(Dense(units=hidden_nodes_layer1_A1,input_dim=number_input_features,activation='relu'))\n",
        "\n",
        "# Second hidden layer\n",
        "nn_A1.add(Dense(units=hidden_nodes_layer2_A1,activation='relu'))\n",
        "\n",
        "# Output layer\n",
        "nn_A1.add(Dense(units=number_output_neurons_A1,activation='sigmoid'))\n",
        "\n",
        "# Check the structure of the model\n",
        "nn_A1.summary()"
      ],
      "execution_count": 37,
      "outputs": [
        {
          "output_type": "stream",
          "name": "stdout",
          "text": [
            "Model: \"sequential_1\"\n",
            "_________________________________________________________________\n",
            " Layer (type)                Output Shape              Param #   \n",
            "=================================================================\n",
            " dense_3 (Dense)             (None, 256)               29696     \n",
            "                                                                 \n",
            " dense_4 (Dense)             (None, 128)               32896     \n",
            "                                                                 \n",
            " dense_5 (Dense)             (None, 1)                 129       \n",
            "                                                                 \n",
            "=================================================================\n",
            "Total params: 62,721\n",
            "Trainable params: 62,721\n",
            "Non-trainable params: 0\n",
            "_________________________________________________________________\n"
          ]
        }
      ]
    },
    {
      "cell_type": "code",
      "metadata": {
        "id": "2gDpRhG7URsK"
      },
      "source": [
        "# Compile the Sequential model\n",
        "nn_A1.compile(loss='binary_crossentropy',optimizer='adam',metrics=['accuracy'])"
      ],
      "execution_count": 38,
      "outputs": []
    },
    {
      "cell_type": "code",
      "metadata": {
        "id": "zE4UD4NyURsK",
        "colab": {
          "base_uri": "https://localhost:8080/"
        },
        "outputId": "20b927a6-c6b8-436e-bd21-1aa56bc74dde"
      },
      "source": [
        "# Fit the model using 50 epochs and the training data\n",
        "fit_model_A1 = nn_A1.fit(X_train_scaled,y_train,epochs=50)\n"
      ],
      "execution_count": 39,
      "outputs": [
        {
          "output_type": "stream",
          "name": "stdout",
          "text": [
            "Epoch 1/50\n",
            "804/804 [==============================] - 3s 3ms/step - loss: 0.5742 - accuracy: 0.7226\n",
            "Epoch 2/50\n",
            "804/804 [==============================] - 2s 3ms/step - loss: 0.5533 - accuracy: 0.7297\n",
            "Epoch 3/50\n",
            "804/804 [==============================] - 2s 3ms/step - loss: 0.5497 - accuracy: 0.7319\n",
            "Epoch 4/50\n",
            "804/804 [==============================] - 2s 3ms/step - loss: 0.5473 - accuracy: 0.7333\n",
            "Epoch 5/50\n",
            "804/804 [==============================] - 2s 3ms/step - loss: 0.5464 - accuracy: 0.7316\n",
            "Epoch 6/50\n",
            "804/804 [==============================] - 2s 3ms/step - loss: 0.5450 - accuracy: 0.7339\n",
            "Epoch 7/50\n",
            "804/804 [==============================] - 2s 3ms/step - loss: 0.5433 - accuracy: 0.7346\n",
            "Epoch 8/50\n",
            "804/804 [==============================] - 2s 3ms/step - loss: 0.5429 - accuracy: 0.7346\n",
            "Epoch 9/50\n",
            "804/804 [==============================] - 2s 3ms/step - loss: 0.5416 - accuracy: 0.7360\n",
            "Epoch 10/50\n",
            "804/804 [==============================] - 2s 3ms/step - loss: 0.5413 - accuracy: 0.7357\n",
            "Epoch 11/50\n",
            "804/804 [==============================] - 2s 3ms/step - loss: 0.5414 - accuracy: 0.7368\n",
            "Epoch 12/50\n",
            "804/804 [==============================] - 2s 3ms/step - loss: 0.5400 - accuracy: 0.7376\n",
            "Epoch 13/50\n",
            "804/804 [==============================] - 2s 3ms/step - loss: 0.5398 - accuracy: 0.7377\n",
            "Epoch 14/50\n",
            "804/804 [==============================] - 2s 3ms/step - loss: 0.5392 - accuracy: 0.7380\n",
            "Epoch 15/50\n",
            "804/804 [==============================] - 2s 3ms/step - loss: 0.5391 - accuracy: 0.7375\n",
            "Epoch 16/50\n",
            "804/804 [==============================] - 2s 3ms/step - loss: 0.5387 - accuracy: 0.7379\n",
            "Epoch 17/50\n",
            "804/804 [==============================] - 2s 3ms/step - loss: 0.5377 - accuracy: 0.7393\n",
            "Epoch 18/50\n",
            "804/804 [==============================] - 2s 3ms/step - loss: 0.5373 - accuracy: 0.7384\n",
            "Epoch 19/50\n",
            "804/804 [==============================] - 2s 3ms/step - loss: 0.5373 - accuracy: 0.7392\n",
            "Epoch 20/50\n",
            "804/804 [==============================] - 2s 3ms/step - loss: 0.5369 - accuracy: 0.7390\n",
            "Epoch 21/50\n",
            "804/804 [==============================] - 2s 3ms/step - loss: 0.5366 - accuracy: 0.7387\n",
            "Epoch 22/50\n",
            "804/804 [==============================] - 2s 3ms/step - loss: 0.5362 - accuracy: 0.7399\n",
            "Epoch 23/50\n",
            "804/804 [==============================] - 2s 3ms/step - loss: 0.5359 - accuracy: 0.7390\n",
            "Epoch 24/50\n",
            "804/804 [==============================] - 2s 3ms/step - loss: 0.5354 - accuracy: 0.7395\n",
            "Epoch 25/50\n",
            "804/804 [==============================] - 2s 3ms/step - loss: 0.5356 - accuracy: 0.7396\n",
            "Epoch 26/50\n",
            "804/804 [==============================] - 2s 3ms/step - loss: 0.5358 - accuracy: 0.7397\n",
            "Epoch 27/50\n",
            "804/804 [==============================] - 2s 3ms/step - loss: 0.5347 - accuracy: 0.7400\n",
            "Epoch 28/50\n",
            "804/804 [==============================] - 2s 3ms/step - loss: 0.5346 - accuracy: 0.7402\n",
            "Epoch 29/50\n",
            "804/804 [==============================] - 2s 3ms/step - loss: 0.5343 - accuracy: 0.7396\n",
            "Epoch 30/50\n",
            "804/804 [==============================] - 2s 3ms/step - loss: 0.5349 - accuracy: 0.7399\n",
            "Epoch 31/50\n",
            "804/804 [==============================] - 2s 3ms/step - loss: 0.5342 - accuracy: 0.7398\n",
            "Epoch 32/50\n",
            "804/804 [==============================] - 2s 3ms/step - loss: 0.5341 - accuracy: 0.7405\n",
            "Epoch 33/50\n",
            "804/804 [==============================] - 2s 3ms/step - loss: 0.5337 - accuracy: 0.7404\n",
            "Epoch 34/50\n",
            "804/804 [==============================] - 2s 3ms/step - loss: 0.5339 - accuracy: 0.7404\n",
            "Epoch 35/50\n",
            "804/804 [==============================] - 2s 3ms/step - loss: 0.5333 - accuracy: 0.7400\n",
            "Epoch 36/50\n",
            "804/804 [==============================] - 2s 3ms/step - loss: 0.5333 - accuracy: 0.7403\n",
            "Epoch 37/50\n",
            "804/804 [==============================] - 2s 3ms/step - loss: 0.5335 - accuracy: 0.7402\n",
            "Epoch 38/50\n",
            "804/804 [==============================] - 2s 3ms/step - loss: 0.5343 - accuracy: 0.7403\n",
            "Epoch 39/50\n",
            "804/804 [==============================] - 2s 3ms/step - loss: 0.5328 - accuracy: 0.7397\n",
            "Epoch 40/50\n",
            "804/804 [==============================] - 2s 3ms/step - loss: 0.5320 - accuracy: 0.7404\n",
            "Epoch 41/50\n",
            "804/804 [==============================] - 2s 3ms/step - loss: 0.5326 - accuracy: 0.7414\n",
            "Epoch 42/50\n",
            "804/804 [==============================] - 2s 3ms/step - loss: 0.5325 - accuracy: 0.7409\n",
            "Epoch 43/50\n",
            "804/804 [==============================] - 2s 3ms/step - loss: 0.5319 - accuracy: 0.7416\n",
            "Epoch 44/50\n",
            "804/804 [==============================] - 2s 3ms/step - loss: 0.5326 - accuracy: 0.7411\n",
            "Epoch 45/50\n",
            "804/804 [==============================] - 2s 3ms/step - loss: 0.5327 - accuracy: 0.7409\n",
            "Epoch 46/50\n",
            "804/804 [==============================] - 2s 3ms/step - loss: 0.5319 - accuracy: 0.7412\n",
            "Epoch 47/50\n",
            "804/804 [==============================] - 2s 3ms/step - loss: 0.5330 - accuracy: 0.7415\n",
            "Epoch 48/50\n",
            "804/804 [==============================] - 2s 3ms/step - loss: 0.5318 - accuracy: 0.7415\n",
            "Epoch 49/50\n",
            "804/804 [==============================] - 2s 3ms/step - loss: 0.5314 - accuracy: 0.7417\n",
            "Epoch 50/50\n",
            "804/804 [==============================] - 2s 3ms/step - loss: 0.5446 - accuracy: 0.7408\n"
          ]
        }
      ]
    },
    {
      "cell_type": "markdown",
      "metadata": {
        "id": "aMZAmHrlURsK"
      },
      "source": [
        "#### Alternative Model 2\n",
        "\n",
        "Explore whether adding a hidden layer improves model effeciency."
      ]
    },
    {
      "cell_type": "code",
      "metadata": {
        "id": "Mw0cxkvOURsK",
        "colab": {
          "base_uri": "https://localhost:8080/"
        },
        "outputId": "2e9d650e-5036-48e8-c11e-c7bcc20c0e10"
      },
      "source": [
        "# Define the the number of inputs (features) to the model\n",
        "number_input_features = len(X_train.iloc[0])\n",
        "\n",
        "# Review the number of features\n",
        "number_input_features"
      ],
      "execution_count": 40,
      "outputs": [
        {
          "output_type": "execute_result",
          "data": {
            "text/plain": [
              "115"
            ]
          },
          "metadata": {},
          "execution_count": 40
        }
      ]
    },
    {
      "cell_type": "code",
      "metadata": {
        "id": "qnLSrAKJURsK"
      },
      "source": [
        "# Define the number of neurons in the output layer\n",
        "number_output_neurons_A2 = 1"
      ],
      "execution_count": 41,
      "outputs": []
    },
    {
      "cell_type": "code",
      "metadata": {
        "id": "myK4iGVBURsK"
      },
      "source": [
        "# Define the number of hidden nodes in each layer\n",
        "hidden_nodes_layer1_A2 = 256\n",
        "hidden_nodes_layer2_A2 = 128\n",
        "hidden_nodes_layer3_A2 = 64\n",
        "hidden_nodes_layer4_A2 = 32\n",
        "hidden_nodes_layer5_A2 = 16\n"
      ],
      "execution_count": 42,
      "outputs": []
    },
    {
      "cell_type": "code",
      "metadata": {
        "id": "lB6J98OSURsL"
      },
      "source": [
        "# Create the Sequential model instance\n",
        "nn_A2 = Sequential()"
      ],
      "execution_count": 43,
      "outputs": []
    },
    {
      "cell_type": "code",
      "metadata": {
        "id": "EX5HLuh9URsL",
        "colab": {
          "base_uri": "https://localhost:8080/"
        },
        "outputId": "598c059e-7215-4fb0-8364-6da332c5ec2a"
      },
      "source": [
        "# Add the hidden layers\n",
        "nn_A2.add(Dense(units=hidden_nodes_layer1_A2,input_dim=number_input_features,activation='relu'))\n",
        "nn_A2.add(Dense(units=hidden_nodes_layer2_A2,activation='relu'))\n",
        "nn_A2.add(Dense(units=hidden_nodes_layer3_A2,activation='relu'))\n",
        "nn_A2.add(Dense(units=hidden_nodes_layer4_A2,activation='relu'))\n",
        "nn_A2.add(Dense(units=hidden_nodes_layer5_A2,activation='relu'))\n",
        "\n",
        "# Add the Output layer\n",
        "nn_A2.add(Dense(units=number_output_neurons_A2,activation='sigmoid'))\n",
        "\n",
        "# Check the structure of the model\n",
        "nn_A2.summary()\n"
      ],
      "execution_count": 44,
      "outputs": [
        {
          "output_type": "stream",
          "name": "stdout",
          "text": [
            "Model: \"sequential_2\"\n",
            "_________________________________________________________________\n",
            " Layer (type)                Output Shape              Param #   \n",
            "=================================================================\n",
            " dense_6 (Dense)             (None, 256)               29696     \n",
            "                                                                 \n",
            " dense_7 (Dense)             (None, 128)               32896     \n",
            "                                                                 \n",
            " dense_8 (Dense)             (None, 64)                8256      \n",
            "                                                                 \n",
            " dense_9 (Dense)             (None, 32)                2080      \n",
            "                                                                 \n",
            " dense_10 (Dense)            (None, 16)                528       \n",
            "                                                                 \n",
            " dense_11 (Dense)            (None, 1)                 17        \n",
            "                                                                 \n",
            "=================================================================\n",
            "Total params: 73,473\n",
            "Trainable params: 73,473\n",
            "Non-trainable params: 0\n",
            "_________________________________________________________________\n"
          ]
        }
      ]
    },
    {
      "cell_type": "code",
      "metadata": {
        "id": "JrI6zrIRURsL"
      },
      "source": [
        "# Compile the model\n",
        "nn_A2.compile(loss='binary_crossentropy',optimizer='adam',metrics=['accuracy'])"
      ],
      "execution_count": 45,
      "outputs": []
    },
    {
      "cell_type": "code",
      "metadata": {
        "id": "8M3fXVn_URsL",
        "colab": {
          "base_uri": "https://localhost:8080/"
        },
        "outputId": "0ca8277c-438b-4309-dd77-d0e9902a2493"
      },
      "source": [
        "# Fit the model\n",
        "fit_model_A2 = nn_A2.fit(X_train_scaled,y_train,epochs=50)\n"
      ],
      "execution_count": 46,
      "outputs": [
        {
          "output_type": "stream",
          "name": "stdout",
          "text": [
            "Epoch 1/50\n",
            "804/804 [==============================] - 3s 3ms/step - loss: 0.5672 - accuracy: 0.7241\n",
            "Epoch 2/50\n",
            "804/804 [==============================] - 3s 3ms/step - loss: 0.5536 - accuracy: 0.7302\n",
            "Epoch 3/50\n",
            "804/804 [==============================] - 2s 3ms/step - loss: 0.5499 - accuracy: 0.7330\n",
            "Epoch 4/50\n",
            "804/804 [==============================] - 3s 3ms/step - loss: 0.5478 - accuracy: 0.7326\n",
            "Epoch 5/50\n",
            "804/804 [==============================] - 3s 3ms/step - loss: 0.5472 - accuracy: 0.7325\n",
            "Epoch 6/50\n",
            "804/804 [==============================] - 3s 3ms/step - loss: 0.5459 - accuracy: 0.7335\n",
            "Epoch 7/50\n",
            "804/804 [==============================] - 2s 3ms/step - loss: 0.5449 - accuracy: 0.7346\n",
            "Epoch 8/50\n",
            "804/804 [==============================] - 2s 3ms/step - loss: 0.5438 - accuracy: 0.7345\n",
            "Epoch 9/50\n",
            "804/804 [==============================] - 3s 3ms/step - loss: 0.5429 - accuracy: 0.7352\n",
            "Epoch 10/50\n",
            "804/804 [==============================] - 3s 3ms/step - loss: 0.5421 - accuracy: 0.7357\n",
            "Epoch 11/50\n",
            "804/804 [==============================] - 3s 3ms/step - loss: 0.5414 - accuracy: 0.7361\n",
            "Epoch 12/50\n",
            "804/804 [==============================] - 3s 3ms/step - loss: 0.5411 - accuracy: 0.7358\n",
            "Epoch 13/50\n",
            "804/804 [==============================] - 3s 3ms/step - loss: 0.5400 - accuracy: 0.7365\n",
            "Epoch 14/50\n",
            "804/804 [==============================] - 3s 3ms/step - loss: 0.5401 - accuracy: 0.7375\n",
            "Epoch 15/50\n",
            "804/804 [==============================] - 3s 3ms/step - loss: 0.5395 - accuracy: 0.7355\n",
            "Epoch 16/50\n",
            "804/804 [==============================] - 3s 3ms/step - loss: 0.5385 - accuracy: 0.7374\n",
            "Epoch 17/50\n",
            "804/804 [==============================] - 3s 3ms/step - loss: 0.5384 - accuracy: 0.7372\n",
            "Epoch 18/50\n",
            "804/804 [==============================] - 3s 3ms/step - loss: 0.5385 - accuracy: 0.7379\n",
            "Epoch 19/50\n",
            "804/804 [==============================] - 3s 3ms/step - loss: 0.5372 - accuracy: 0.7376\n",
            "Epoch 20/50\n",
            "804/804 [==============================] - 3s 3ms/step - loss: 0.5376 - accuracy: 0.7371\n",
            "Epoch 21/50\n",
            "804/804 [==============================] - 3s 3ms/step - loss: 0.5376 - accuracy: 0.7382\n",
            "Epoch 22/50\n",
            "804/804 [==============================] - 3s 3ms/step - loss: 0.5367 - accuracy: 0.7392\n",
            "Epoch 23/50\n",
            "804/804 [==============================] - 3s 4ms/step - loss: 0.5358 - accuracy: 0.7386\n",
            "Epoch 24/50\n",
            "804/804 [==============================] - 3s 3ms/step - loss: 0.5363 - accuracy: 0.7386\n",
            "Epoch 25/50\n",
            "804/804 [==============================] - 3s 4ms/step - loss: 0.5349 - accuracy: 0.7402\n",
            "Epoch 26/50\n",
            "804/804 [==============================] - 3s 3ms/step - loss: 0.5354 - accuracy: 0.7397\n",
            "Epoch 27/50\n",
            "804/804 [==============================] - 3s 3ms/step - loss: 0.5349 - accuracy: 0.7390\n",
            "Epoch 28/50\n",
            "804/804 [==============================] - 3s 3ms/step - loss: 0.5353 - accuracy: 0.7395\n",
            "Epoch 29/50\n",
            "804/804 [==============================] - 3s 3ms/step - loss: 0.5343 - accuracy: 0.7406\n",
            "Epoch 30/50\n",
            "804/804 [==============================] - 2s 3ms/step - loss: 0.5340 - accuracy: 0.7398\n",
            "Epoch 31/50\n",
            "804/804 [==============================] - 2s 3ms/step - loss: 0.5335 - accuracy: 0.7406\n",
            "Epoch 32/50\n",
            "804/804 [==============================] - 3s 3ms/step - loss: 0.5334 - accuracy: 0.7404\n",
            "Epoch 33/50\n",
            "804/804 [==============================] - 3s 3ms/step - loss: 0.5333 - accuracy: 0.7394\n",
            "Epoch 34/50\n",
            "804/804 [==============================] - 3s 3ms/step - loss: 0.5331 - accuracy: 0.7405\n",
            "Epoch 35/50\n",
            "804/804 [==============================] - 3s 3ms/step - loss: 0.5326 - accuracy: 0.7402\n",
            "Epoch 36/50\n",
            "804/804 [==============================] - 3s 3ms/step - loss: 0.5328 - accuracy: 0.7410\n",
            "Epoch 37/50\n",
            "804/804 [==============================] - 3s 3ms/step - loss: 0.5324 - accuracy: 0.7400\n",
            "Epoch 38/50\n",
            "804/804 [==============================] - 3s 3ms/step - loss: 0.5318 - accuracy: 0.7409\n",
            "Epoch 39/50\n",
            "804/804 [==============================] - 3s 3ms/step - loss: 0.5313 - accuracy: 0.7403\n",
            "Epoch 40/50\n",
            "804/804 [==============================] - 3s 3ms/step - loss: 0.5311 - accuracy: 0.7413\n",
            "Epoch 41/50\n",
            "804/804 [==============================] - 3s 3ms/step - loss: 0.5325 - accuracy: 0.7416\n",
            "Epoch 42/50\n",
            "804/804 [==============================] - 3s 3ms/step - loss: 0.5308 - accuracy: 0.7418\n",
            "Epoch 43/50\n",
            "804/804 [==============================] - 3s 3ms/step - loss: 0.5301 - accuracy: 0.7419\n",
            "Epoch 44/50\n",
            "804/804 [==============================] - 3s 3ms/step - loss: 0.5304 - accuracy: 0.7414\n",
            "Epoch 45/50\n",
            "804/804 [==============================] - 3s 3ms/step - loss: 0.5311 - accuracy: 0.7416\n",
            "Epoch 46/50\n",
            "804/804 [==============================] - 3s 3ms/step - loss: 0.5293 - accuracy: 0.7421\n",
            "Epoch 47/50\n",
            "804/804 [==============================] - 3s 3ms/step - loss: 0.5303 - accuracy: 0.7411\n",
            "Epoch 48/50\n",
            "804/804 [==============================] - 3s 3ms/step - loss: 0.5310 - accuracy: 0.7406\n",
            "Epoch 49/50\n",
            "804/804 [==============================] - 3s 3ms/step - loss: 0.5297 - accuracy: 0.7412\n",
            "Epoch 50/50\n",
            "804/804 [==============================] - 3s 3ms/step - loss: 0.5293 - accuracy: 0.7417\n"
          ]
        }
      ]
    },
    {
      "cell_type": "markdown",
      "source": [
        "### Before Selecting Third Alternative Review convergence of both Alternative Models\n",
        "This can assess whether increasing epochs would improve model performance."
      ],
      "metadata": {
        "id": "C_JvrB9mhd3R"
      }
    },
    {
      "cell_type": "code",
      "source": [
        "# Create a DataFrame with the history dictionary\n",
        "df_A1 = pd.DataFrame(fit_model_A1.history, index=range(1, len(fit_model_A1.history[\"loss\"]) + 1))\n",
        "\n",
        "# Plot the loss\n",
        "ax = df_A1.plot(y=\"loss\")\n"
      ],
      "metadata": {
        "colab": {
          "base_uri": "https://localhost:8080/",
          "height": 265
        },
        "id": "lr-w60V2q6Ie",
        "outputId": "8d349858-1723-4373-deaa-5afaa73ec149"
      },
      "execution_count": 47,
      "outputs": [
        {
          "output_type": "display_data",
          "data": {
            "text/plain": [
              "<Figure size 432x288 with 1 Axes>"
            ],
            "image/png": "[encoded data removed]"
          },
          "metadata": {
            "needs_background": "light"
          }
        }
      ]
    },
    {
      "cell_type": "code",
      "source": [
        "# Create a DataFrame with the history dictionary\n",
        "df_A2 = pd.DataFrame(fit_model_A2.history, index=range(1, len(fit_model_A2.history[\"loss\"]) + 1))\n",
        "\n",
        "# Plot the loss\n",
        "df_A2.plot(y=\"loss\")\n"
      ],
      "metadata": {
        "colab": {
          "base_uri": "https://localhost:8080/",
          "height": 282
        },
        "id": "946Uc3UwgjN5",
        "outputId": "0fa5115c-5814-4795-ae31-f231c15fe7bb"
      },
      "execution_count": 48,
      "outputs": [
        {
          "output_type": "execute_result",
          "data": {
            "text/plain": [
              "<matplotlib.axes._subplots.AxesSubplot at 0x7fdcaac70f10>"
            ]
          },
          "metadata": {},
          "execution_count": 48
        },
        {
          "output_type": "display_data",
          "data": {
            "text/plain": [
              "<Figure size 432x288 with 1 Axes>"
            ],
            "image/png": "[encoded data removed]"
          },
          "metadata": {
            "needs_background": "light"
          }
        }
      ]
    },
    {
      "cell_type": "markdown",
      "source": [
        "#### Review of Loss plots\n",
        "The above plots suggest that increasing the epochs may improve the performance of the model\n"
      ],
      "metadata": {
        "id": "8LXBzMyCrrAH"
      }
    },
    {
      "cell_type": "markdown",
      "source": [
        "### Before Selecting Third Alternative Review training dataset\n",
        "Explore whether adjustments to the dataset might improve model performance."
      ],
      "metadata": {
        "id": "BwUyun_Ar982"
      }
    },
    {
      "cell_type": "code",
      "source": [
        "# check for class imbalance\n",
        "y_train.value_counts()"
      ],
      "metadata": {
        "colab": {
          "base_uri": "https://localhost:8080/"
        },
        "id": "Hjz1MUJzsKFY",
        "outputId": "29c6d626-d3d1-4b42-dc3b-4eb1019b47ed"
      },
      "execution_count": 49,
      "outputs": [
        {
          "output_type": "execute_result",
          "data": {
            "text/plain": [
              "1    13723\n",
              "0    12001\n",
              "Name: IS_SUCCESSFUL, dtype: int64"
            ]
          },
          "metadata": {},
          "execution_count": 49
        }
      ]
    },
    {
      "cell_type": "markdown",
      "source": [
        "#### Imbalance Review\n",
        "\n",
        "No significant class imbalance"
      ],
      "metadata": {
        "id": "KnoKQbp21x_J"
      }
    },
    {
      "cell_type": "markdown",
      "source": [
        "#### Alternative Model 3\n",
        "\n",
        "Explore whether increasing epoch, applying PCA improve model efficency and adjusting loss and activation functions can improve the performance of the model.\n",
        "\n",
        "* For the hidden layer activation function, instead of **relu**, try **elu**\n",
        "* For the output layer activation function, instead of **sigmoid**, try **tanh**\n",
        "* Instead of **binary_crossentropy**, try **mse**"
      ],
      "metadata": {
        "id": "8eo281Sdu_3x"
      }
    },
    {
      "cell_type": "code",
      "source": [
        "# Define the the number of inputs (features) to the model\n",
        "number_input_features = len(X_train_scaled[1])\n",
        "\n",
        "# Review the number of features\n",
        "number_input_features"
      ],
      "metadata": {
        "colab": {
          "base_uri": "https://localhost:8080/"
        },
        "id": "Ji3_nlfXwU6M",
        "outputId": "18ea8cdc-0c82-4d30-d8a0-ad962dd1b0d5"
      },
      "execution_count": 431,
      "outputs": [
        {
          "output_type": "execute_result",
          "data": {
            "text/plain": [
              "115"
            ]
          },
          "metadata": {},
          "execution_count": 431
        }
      ]
    },
    {
      "cell_type": "code",
      "source": [
        "# Define the number of hidden nodes in each layer\n",
        "hidden_nodes_layer1_A3 = 64\n",
        "hidden_nodes_layer2_A3 = 16\n",
        "hidden_nodes_layer3_A3 = 13\n",
        "\n",
        "\n",
        "# Define the number of neurons in the output layer\n",
        "number_output_neurons_A3 = 1\n",
        "\n",
        "# Define the number of epoches to train with\n",
        "epochs_A3=200\n",
        "\n",
        "# define hidden layer activation function to use\n",
        "hidden_layer_activation = 'elu'\n",
        "\n",
        "# define output layer activation function to use\n",
        "output_layer_activation = 'tanh'  \n",
        "\n",
        "# define compilation loss function\n",
        "compile_loss = 'mse' "
      ],
      "metadata": {
        "id": "je_10NHPw57t"
      },
      "execution_count": 449,
      "outputs": []
    },
    {
      "cell_type": "code",
      "source": [
        "# Create the Sequential model instance\n",
        "nn_A3 = Sequential()"
      ],
      "metadata": {
        "id": "3RCMkwctxYjW"
      },
      "execution_count": 450,
      "outputs": []
    },
    {
      "cell_type": "code",
      "source": [
        "# Add the hidden layers\n",
        "nn_A3.add(Dense(units=hidden_nodes_layer1_A3,input_dim=number_input_features,activation=hidden_layer_activation))\n",
        "nn_A3.add(Dense(units=hidden_nodes_layer2_A3,activation=hidden_layer_activation))\n",
        "nn_A3.add(Dense(units=hidden_nodes_layer3_A3,activation=hidden_layer_activation))\n",
        "\n",
        "# Add the Output layer\n",
        "nn_A3.add(Dense(units=number_output_neurons_A3,activation=output_layer_activation))\n",
        "\n",
        "# Check the structure of the model\n",
        "nn_A3.summary()"
      ],
      "metadata": {
        "colab": {
          "base_uri": "https://localhost:8080/"
        },
        "id": "kXSlng0lxJOF",
        "outputId": "3898e507-472c-4d9b-ed96-fc81329056e1"
      },
      "execution_count": 451,
      "outputs": [
        {
          "output_type": "stream",
          "name": "stdout",
          "text": [
            "Model: \"sequential_76\"\n",
            "_________________________________________________________________\n",
            " Layer (type)                Output Shape              Param #   \n",
            "=================================================================\n",
            " dense_309 (Dense)           (None, 64)                7424      \n",
            "                                                                 \n",
            " dense_310 (Dense)           (None, 16)                1040      \n",
            "                                                                 \n",
            " dense_311 (Dense)           (None, 13)                221       \n",
            "                                                                 \n",
            " dense_312 (Dense)           (None, 1)                 14        \n",
            "                                                                 \n",
            "=================================================================\n",
            "Total params: 8,699\n",
            "Trainable params: 8,699\n",
            "Non-trainable params: 0\n",
            "_________________________________________________________________\n"
          ]
        }
      ]
    },
    {
      "cell_type": "code",
      "source": [
        "# Compile the model\n",
        "nn_A3.compile(loss=compile_loss,optimizer='adam',metrics=['accuracy'])"
      ],
      "metadata": {
        "id": "snBlrP8Mx0ot"
      },
      "execution_count": 452,
      "outputs": []
    },
    {
      "cell_type": "code",
      "source": [
        "# Fit the model\n",
        "fit_model_A3 = nn_A3.fit(X_train_scaled,y_train,epochs=epochs_A3)"
      ],
      "metadata": {
        "colab": {
          "base_uri": "https://localhost:8080/"
        },
        "id": "9NHFxqlaxJHU",
        "outputId": "75810363-4a5e-42bb-bb53-c18fc5045dd2"
      },
      "execution_count": 453,
      "outputs": [
        {
          "output_type": "stream",
          "name": "stdout",
          "text": [
            "Epoch 1/200\n",
            "804/804 [==============================] - 2s 2ms/step - loss: 0.2080 - accuracy: 0.7168\n",
            "Epoch 2/200\n",
            "804/804 [==============================] - 2s 2ms/step - loss: 0.1897 - accuracy: 0.7262\n",
            "Epoch 3/200\n",
            "804/804 [==============================] - 1s 2ms/step - loss: 0.1876 - accuracy: 0.7282\n",
            "Epoch 4/200\n",
            "804/804 [==============================] - 1s 2ms/step - loss: 0.1867 - accuracy: 0.7296\n",
            "Epoch 5/200\n",
            "804/804 [==============================] - 2s 2ms/step - loss: 0.1860 - accuracy: 0.7294\n",
            "Epoch 6/200\n",
            "804/804 [==============================] - 1s 2ms/step - loss: 0.1855 - accuracy: 0.7297\n",
            "Epoch 7/200\n",
            "804/804 [==============================] - 1s 2ms/step - loss: 0.1852 - accuracy: 0.7316\n",
            "Epoch 8/200\n",
            "804/804 [==============================] - 2s 2ms/step - loss: 0.1850 - accuracy: 0.7313\n",
            "Epoch 9/200\n",
            "804/804 [==============================] - 1s 2ms/step - loss: 0.1846 - accuracy: 0.7325\n",
            "Epoch 10/200\n",
            "804/804 [==============================] - 1s 2ms/step - loss: 0.1841 - accuracy: 0.7324\n",
            "Epoch 11/200\n",
            "804/804 [==============================] - 1s 2ms/step - loss: 0.1842 - accuracy: 0.7319\n",
            "Epoch 12/200\n",
            "804/804 [==============================] - 2s 2ms/step - loss: 0.1841 - accuracy: 0.7310\n",
            "Epoch 13/200\n",
            "804/804 [==============================] - 2s 2ms/step - loss: 0.1838 - accuracy: 0.7336\n",
            "Epoch 14/200\n",
            "804/804 [==============================] - 2s 2ms/step - loss: 0.1835 - accuracy: 0.7324\n",
            "Epoch 15/200\n",
            "804/804 [==============================] - 2s 2ms/step - loss: 0.1834 - accuracy: 0.7325\n",
            "Epoch 16/200\n",
            "804/804 [==============================] - 2s 2ms/step - loss: 0.1830 - accuracy: 0.7337\n",
            "Epoch 17/200\n",
            "804/804 [==============================] - 2s 2ms/step - loss: 0.1829 - accuracy: 0.7342\n",
            "Epoch 18/200\n",
            "804/804 [==============================] - 2s 2ms/step - loss: 0.1828 - accuracy: 0.7340\n",
            "Epoch 19/200\n",
            "804/804 [==============================] - 2s 2ms/step - loss: 0.1827 - accuracy: 0.7345\n",
            "Epoch 20/200\n",
            "804/804 [==============================] - 1s 2ms/step - loss: 0.1827 - accuracy: 0.7348\n",
            "Epoch 21/200\n",
            "804/804 [==============================] - 1s 2ms/step - loss: 0.1821 - accuracy: 0.7336\n",
            "Epoch 22/200\n",
            "804/804 [==============================] - 2s 2ms/step - loss: 0.1822 - accuracy: 0.7362\n",
            "Epoch 23/200\n",
            "804/804 [==============================] - 1s 2ms/step - loss: 0.1819 - accuracy: 0.7355\n",
            "Epoch 24/200\n",
            "804/804 [==============================] - 2s 2ms/step - loss: 0.1822 - accuracy: 0.7340\n",
            "Epoch 25/200\n",
            "804/804 [==============================] - 2s 2ms/step - loss: 0.1821 - accuracy: 0.7352\n",
            "Epoch 26/200\n",
            "804/804 [==============================] - 2s 2ms/step - loss: 0.1813 - accuracy: 0.7381\n",
            "Epoch 27/200\n",
            "804/804 [==============================] - 1s 2ms/step - loss: 0.1814 - accuracy: 0.7371\n",
            "Epoch 28/200\n",
            "804/804 [==============================] - 1s 2ms/step - loss: 0.1813 - accuracy: 0.7361\n",
            "Epoch 29/200\n",
            "804/804 [==============================] - 1s 2ms/step - loss: 0.1812 - accuracy: 0.7376\n",
            "Epoch 30/200\n",
            "804/804 [==============================] - 2s 2ms/step - loss: 0.1813 - accuracy: 0.7368\n",
            "Epoch 31/200\n",
            "804/804 [==============================] - 1s 2ms/step - loss: 0.1812 - accuracy: 0.7359\n",
            "Epoch 32/200\n",
            "804/804 [==============================] - 1s 2ms/step - loss: 0.1812 - accuracy: 0.7359\n",
            "Epoch 33/200\n",
            "804/804 [==============================] - 2s 2ms/step - loss: 0.1808 - accuracy: 0.7371\n",
            "Epoch 34/200\n",
            "804/804 [==============================] - 2s 2ms/step - loss: 0.1809 - accuracy: 0.7370\n",
            "Epoch 35/200\n",
            "804/804 [==============================] - 1s 2ms/step - loss: 0.1806 - accuracy: 0.7384\n",
            "Epoch 36/200\n",
            "804/804 [==============================] - 2s 2ms/step - loss: 0.1805 - accuracy: 0.7369\n",
            "Epoch 37/200\n",
            "804/804 [==============================] - 2s 2ms/step - loss: 0.1804 - accuracy: 0.7377\n",
            "Epoch 38/200\n",
            "804/804 [==============================] - 2s 2ms/step - loss: 0.1802 - accuracy: 0.7390\n",
            "Epoch 39/200\n",
            "804/804 [==============================] - 1s 2ms/step - loss: 0.1804 - accuracy: 0.7375\n",
            "Epoch 40/200\n",
            "804/804 [==============================] - 1s 2ms/step - loss: 0.1802 - accuracy: 0.7394\n",
            "Epoch 41/200\n",
            "804/804 [==============================] - 1s 2ms/step - loss: 0.1801 - accuracy: 0.7389\n",
            "Epoch 42/200\n",
            "804/804 [==============================] - 2s 2ms/step - loss: 0.1800 - accuracy: 0.7388\n",
            "Epoch 43/200\n",
            "804/804 [==============================] - 1s 2ms/step - loss: 0.1801 - accuracy: 0.7378\n",
            "Epoch 44/200\n",
            "804/804 [==============================] - 2s 2ms/step - loss: 0.1799 - accuracy: 0.7388\n",
            "Epoch 45/200\n",
            "804/804 [==============================] - 2s 2ms/step - loss: 0.1799 - accuracy: 0.7380\n",
            "Epoch 46/200\n",
            "804/804 [==============================] - 2s 2ms/step - loss: 0.1799 - accuracy: 0.7383\n",
            "Epoch 47/200\n",
            "804/804 [==============================] - 2s 2ms/step - loss: 0.1797 - accuracy: 0.7369\n",
            "Epoch 48/200\n",
            "804/804 [==============================] - 2s 2ms/step - loss: 0.1797 - accuracy: 0.7395\n",
            "Epoch 49/200\n",
            "804/804 [==============================] - 1s 2ms/step - loss: 0.1795 - accuracy: 0.7399\n",
            "Epoch 50/200\n",
            "804/804 [==============================] - 1s 2ms/step - loss: 0.1797 - accuracy: 0.7393\n",
            "Epoch 51/200\n",
            "804/804 [==============================] - 1s 2ms/step - loss: 0.1794 - accuracy: 0.7388\n",
            "Epoch 52/200\n",
            "804/804 [==============================] - 2s 2ms/step - loss: 0.1794 - accuracy: 0.7388\n",
            "Epoch 53/200\n",
            "804/804 [==============================] - 2s 2ms/step - loss: 0.1793 - accuracy: 0.7394\n",
            "Epoch 54/200\n",
            "804/804 [==============================] - 2s 2ms/step - loss: 0.1794 - accuracy: 0.7393\n",
            "Epoch 55/200\n",
            "804/804 [==============================] - 1s 2ms/step - loss: 0.1792 - accuracy: 0.7389\n",
            "Epoch 56/200\n",
            "804/804 [==============================] - 2s 2ms/step - loss: 0.1792 - accuracy: 0.7410\n",
            "Epoch 57/200\n",
            "804/804 [==============================] - 2s 2ms/step - loss: 0.1792 - accuracy: 0.7400\n",
            "Epoch 58/200\n",
            "804/804 [==============================] - 2s 2ms/step - loss: 0.1790 - accuracy: 0.7404\n",
            "Epoch 59/200\n",
            "804/804 [==============================] - 2s 2ms/step - loss: 0.1791 - accuracy: 0.7397\n",
            "Epoch 60/200\n",
            "804/804 [==============================] - 2s 2ms/step - loss: 0.1790 - accuracy: 0.7405\n",
            "Epoch 61/200\n",
            "804/804 [==============================] - 1s 2ms/step - loss: 0.1790 - accuracy: 0.7400\n",
            "Epoch 62/200\n",
            "804/804 [==============================] - 2s 2ms/step - loss: 0.1787 - accuracy: 0.7417\n",
            "Epoch 63/200\n",
            "804/804 [==============================] - 2s 2ms/step - loss: 0.1789 - accuracy: 0.7395\n",
            "Epoch 64/200\n",
            "804/804 [==============================] - 2s 2ms/step - loss: 0.1789 - accuracy: 0.7407\n",
            "Epoch 65/200\n",
            "804/804 [==============================] - 2s 2ms/step - loss: 0.1785 - accuracy: 0.7416\n",
            "Epoch 66/200\n",
            "804/804 [==============================] - 2s 2ms/step - loss: 0.1787 - accuracy: 0.7400\n",
            "Epoch 67/200\n",
            "804/804 [==============================] - 2s 2ms/step - loss: 0.1786 - accuracy: 0.7395\n",
            "Epoch 68/200\n",
            "804/804 [==============================] - 2s 2ms/step - loss: 0.1787 - accuracy: 0.7404\n",
            "Epoch 69/200\n",
            "804/804 [==============================] - 2s 2ms/step - loss: 0.1786 - accuracy: 0.7407\n",
            "Epoch 70/200\n",
            "804/804 [==============================] - 1s 2ms/step - loss: 0.1784 - accuracy: 0.7406\n",
            "Epoch 71/200\n",
            "804/804 [==============================] - 2s 2ms/step - loss: 0.1783 - accuracy: 0.7398\n",
            "Epoch 72/200\n",
            "804/804 [==============================] - 2s 2ms/step - loss: 0.1788 - accuracy: 0.7395\n",
            "Epoch 73/200\n",
            "804/804 [==============================] - 1s 2ms/step - loss: 0.1782 - accuracy: 0.7419\n",
            "Epoch 74/200\n",
            "804/804 [==============================] - 2s 2ms/step - loss: 0.1784 - accuracy: 0.7397\n",
            "Epoch 75/200\n",
            "804/804 [==============================] - 2s 2ms/step - loss: 0.1783 - accuracy: 0.7412\n",
            "Epoch 76/200\n",
            "804/804 [==============================] - 2s 2ms/step - loss: 0.1782 - accuracy: 0.7408\n",
            "Epoch 77/200\n",
            "804/804 [==============================] - 2s 2ms/step - loss: 0.1784 - accuracy: 0.7401\n",
            "Epoch 78/200\n",
            "804/804 [==============================] - 2s 2ms/step - loss: 0.1782 - accuracy: 0.7394\n",
            "Epoch 79/200\n",
            "804/804 [==============================] - 2s 2ms/step - loss: 0.1783 - accuracy: 0.7408\n",
            "Epoch 80/200\n",
            "804/804 [==============================] - 2s 2ms/step - loss: 0.1782 - accuracy: 0.7420\n",
            "Epoch 81/200\n",
            "804/804 [==============================] - 2s 2ms/step - loss: 0.1781 - accuracy: 0.7424\n",
            "Epoch 82/200\n",
            "804/804 [==============================] - 2s 2ms/step - loss: 0.1782 - accuracy: 0.7399\n",
            "Epoch 83/200\n",
            "804/804 [==============================] - 2s 2ms/step - loss: 0.1784 - accuracy: 0.7414\n",
            "Epoch 84/200\n",
            "804/804 [==============================] - 2s 2ms/step - loss: 0.1780 - accuracy: 0.7411\n",
            "Epoch 85/200\n",
            "804/804 [==============================] - 2s 2ms/step - loss: 0.1780 - accuracy: 0.7408\n",
            "Epoch 86/200\n",
            "804/804 [==============================] - 2s 2ms/step - loss: 0.1781 - accuracy: 0.7403\n",
            "Epoch 87/200\n",
            "804/804 [==============================] - 2s 2ms/step - loss: 0.1780 - accuracy: 0.7412\n",
            "Epoch 88/200\n",
            "804/804 [==============================] - 2s 2ms/step - loss: 0.1779 - accuracy: 0.7418\n",
            "Epoch 89/200\n",
            "804/804 [==============================] - 1s 2ms/step - loss: 0.1780 - accuracy: 0.7403\n",
            "Epoch 90/200\n",
            "804/804 [==============================] - 1s 2ms/step - loss: 0.1779 - accuracy: 0.7416\n",
            "Epoch 91/200\n",
            "804/804 [==============================] - 2s 2ms/step - loss: 0.1780 - accuracy: 0.7418\n",
            "Epoch 92/200\n",
            "804/804 [==============================] - 2s 2ms/step - loss: 0.1779 - accuracy: 0.7405\n",
            "Epoch 93/200\n",
            "804/804 [==============================] - 2s 2ms/step - loss: 0.1779 - accuracy: 0.7407\n",
            "Epoch 94/200\n",
            "804/804 [==============================] - 2s 2ms/step - loss: 0.1780 - accuracy: 0.7406\n",
            "Epoch 95/200\n",
            "804/804 [==============================] - 1s 2ms/step - loss: 0.1778 - accuracy: 0.7414\n",
            "Epoch 96/200\n",
            "804/804 [==============================] - 2s 2ms/step - loss: 0.1779 - accuracy: 0.7422\n",
            "Epoch 97/200\n",
            "804/804 [==============================] - 2s 2ms/step - loss: 0.1779 - accuracy: 0.7413\n",
            "Epoch 98/200\n",
            "804/804 [==============================] - 2s 2ms/step - loss: 0.1778 - accuracy: 0.7428\n",
            "Epoch 99/200\n",
            "804/804 [==============================] - 2s 2ms/step - loss: 0.1777 - accuracy: 0.7406\n",
            "Epoch 100/200\n",
            "804/804 [==============================] - 2s 2ms/step - loss: 0.1777 - accuracy: 0.7412\n",
            "Epoch 101/200\n",
            "804/804 [==============================] - 1s 2ms/step - loss: 0.1777 - accuracy: 0.7414\n",
            "Epoch 102/200\n",
            "804/804 [==============================] - 2s 2ms/step - loss: 0.1777 - accuracy: 0.7424\n",
            "Epoch 103/200\n",
            "804/804 [==============================] - 2s 2ms/step - loss: 0.1778 - accuracy: 0.7421\n",
            "Epoch 104/200\n",
            "804/804 [==============================] - 2s 2ms/step - loss: 0.1777 - accuracy: 0.7420\n",
            "Epoch 105/200\n",
            "804/804 [==============================] - 2s 2ms/step - loss: 0.1778 - accuracy: 0.7421\n",
            "Epoch 106/200\n",
            "804/804 [==============================] - 2s 2ms/step - loss: 0.1775 - accuracy: 0.7414\n",
            "Epoch 107/200\n",
            "804/804 [==============================] - 2s 2ms/step - loss: 0.1776 - accuracy: 0.7417\n",
            "Epoch 108/200\n",
            "804/804 [==============================] - 1s 2ms/step - loss: 0.1775 - accuracy: 0.7427\n",
            "Epoch 109/200\n",
            "804/804 [==============================] - 2s 2ms/step - loss: 0.1774 - accuracy: 0.7427\n",
            "Epoch 110/200\n",
            "804/804 [==============================] - 2s 2ms/step - loss: 0.1776 - accuracy: 0.7416\n",
            "Epoch 111/200\n",
            "804/804 [==============================] - 2s 2ms/step - loss: 0.1776 - accuracy: 0.7425\n",
            "Epoch 112/200\n",
            "804/804 [==============================] - 2s 2ms/step - loss: 0.1776 - accuracy: 0.7417\n",
            "Epoch 113/200\n",
            "804/804 [==============================] - 2s 2ms/step - loss: 0.1775 - accuracy: 0.7426\n",
            "Epoch 114/200\n",
            "804/804 [==============================] - 2s 2ms/step - loss: 0.1775 - accuracy: 0.7418\n",
            "Epoch 115/200\n",
            "804/804 [==============================] - 2s 2ms/step - loss: 0.1775 - accuracy: 0.7423\n",
            "Epoch 116/200\n",
            "804/804 [==============================] - 2s 2ms/step - loss: 0.1775 - accuracy: 0.7426\n",
            "Epoch 117/200\n",
            "804/804 [==============================] - 2s 2ms/step - loss: 0.1775 - accuracy: 0.7423\n",
            "Epoch 118/200\n",
            "804/804 [==============================] - 2s 2ms/step - loss: 0.1775 - accuracy: 0.7427\n",
            "Epoch 119/200\n",
            "804/804 [==============================] - 2s 2ms/step - loss: 0.1775 - accuracy: 0.7427\n",
            "Epoch 120/200\n",
            "804/804 [==============================] - 2s 2ms/step - loss: 0.1773 - accuracy: 0.7423\n",
            "Epoch 121/200\n",
            "804/804 [==============================] - 2s 2ms/step - loss: 0.1775 - accuracy: 0.7435\n",
            "Epoch 122/200\n",
            "804/804 [==============================] - 2s 2ms/step - loss: 0.1777 - accuracy: 0.7421\n",
            "Epoch 123/200\n",
            "804/804 [==============================] - 2s 2ms/step - loss: 0.1774 - accuracy: 0.7425\n",
            "Epoch 124/200\n",
            "804/804 [==============================] - 2s 2ms/step - loss: 0.1773 - accuracy: 0.7409\n",
            "Epoch 125/200\n",
            "804/804 [==============================] - 2s 2ms/step - loss: 0.1772 - accuracy: 0.7421\n",
            "Epoch 126/200\n",
            "804/804 [==============================] - 2s 2ms/step - loss: 0.1773 - accuracy: 0.7438\n",
            "Epoch 127/200\n",
            "804/804 [==============================] - 2s 2ms/step - loss: 0.1773 - accuracy: 0.7429\n",
            "Epoch 128/200\n",
            "804/804 [==============================] - 2s 2ms/step - loss: 0.1774 - accuracy: 0.7421\n",
            "Epoch 129/200\n",
            "804/804 [==============================] - 2s 2ms/step - loss: 0.1771 - accuracy: 0.7422\n",
            "Epoch 130/200\n",
            "804/804 [==============================] - 2s 2ms/step - loss: 0.1773 - accuracy: 0.7417\n",
            "Epoch 131/200\n",
            "804/804 [==============================] - 2s 2ms/step - loss: 0.1774 - accuracy: 0.7418\n",
            "Epoch 132/200\n",
            "804/804 [==============================] - 2s 2ms/step - loss: 0.1772 - accuracy: 0.7435\n",
            "Epoch 133/200\n",
            "804/804 [==============================] - 2s 2ms/step - loss: 0.1773 - accuracy: 0.7413\n",
            "Epoch 134/200\n",
            "804/804 [==============================] - 2s 2ms/step - loss: 0.1772 - accuracy: 0.7420\n",
            "Epoch 135/200\n",
            "804/804 [==============================] - 2s 2ms/step - loss: 0.1773 - accuracy: 0.7413\n",
            "Epoch 136/200\n",
            "804/804 [==============================] - 2s 2ms/step - loss: 0.1773 - accuracy: 0.7425\n",
            "Epoch 137/200\n",
            "804/804 [==============================] - 2s 2ms/step - loss: 0.1772 - accuracy: 0.7423\n",
            "Epoch 138/200\n",
            "804/804 [==============================] - 2s 2ms/step - loss: 0.1772 - accuracy: 0.7429\n",
            "Epoch 139/200\n",
            "804/804 [==============================] - 2s 2ms/step - loss: 0.1774 - accuracy: 0.7426\n",
            "Epoch 140/200\n",
            "804/804 [==============================] - 2s 2ms/step - loss: 0.1771 - accuracy: 0.7430\n",
            "Epoch 141/200\n",
            "804/804 [==============================] - 2s 2ms/step - loss: 0.1772 - accuracy: 0.7427\n",
            "Epoch 142/200\n",
            "804/804 [==============================] - 2s 2ms/step - loss: 0.1772 - accuracy: 0.7420\n",
            "Epoch 143/200\n",
            "804/804 [==============================] - 2s 2ms/step - loss: 0.1771 - accuracy: 0.7430\n",
            "Epoch 144/200\n",
            "804/804 [==============================] - 2s 2ms/step - loss: 0.1771 - accuracy: 0.7415\n",
            "Epoch 145/200\n",
            "804/804 [==============================] - 2s 2ms/step - loss: 0.1773 - accuracy: 0.7415\n",
            "Epoch 146/200\n",
            "804/804 [==============================] - 2s 2ms/step - loss: 0.1772 - accuracy: 0.7420\n",
            "Epoch 147/200\n",
            "804/804 [==============================] - 2s 2ms/step - loss: 0.1772 - accuracy: 0.7421\n",
            "Epoch 148/200\n",
            "804/804 [==============================] - 2s 2ms/step - loss: 0.1771 - accuracy: 0.7428\n",
            "Epoch 149/200\n",
            "804/804 [==============================] - 2s 2ms/step - loss: 0.1773 - accuracy: 0.7426\n",
            "Epoch 150/200\n",
            "804/804 [==============================] - 2s 2ms/step - loss: 0.1771 - accuracy: 0.7416\n",
            "Epoch 151/200\n",
            "804/804 [==============================] - 2s 2ms/step - loss: 0.1771 - accuracy: 0.7421\n",
            "Epoch 152/200\n",
            "804/804 [==============================] - 2s 2ms/step - loss: 0.1770 - accuracy: 0.7429\n",
            "Epoch 153/200\n",
            "804/804 [==============================] - 2s 2ms/step - loss: 0.1771 - accuracy: 0.7437\n",
            "Epoch 154/200\n",
            "804/804 [==============================] - 2s 2ms/step - loss: 0.1770 - accuracy: 0.7421\n",
            "Epoch 155/200\n",
            "804/804 [==============================] - 2s 2ms/step - loss: 0.1772 - accuracy: 0.7417\n",
            "Epoch 156/200\n",
            "804/804 [==============================] - 2s 2ms/step - loss: 0.1770 - accuracy: 0.7427\n",
            "Epoch 157/200\n",
            "804/804 [==============================] - 2s 2ms/step - loss: 0.1770 - accuracy: 0.7440\n",
            "Epoch 158/200\n",
            "804/804 [==============================] - 2s 2ms/step - loss: 0.1769 - accuracy: 0.7420\n",
            "Epoch 159/200\n",
            "804/804 [==============================] - 2s 2ms/step - loss: 0.1770 - accuracy: 0.7421\n",
            "Epoch 160/200\n",
            "804/804 [==============================] - 2s 2ms/step - loss: 0.1770 - accuracy: 0.7427\n",
            "Epoch 161/200\n",
            "804/804 [==============================] - 2s 2ms/step - loss: 0.1770 - accuracy: 0.7439\n",
            "Epoch 162/200\n",
            "804/804 [==============================] - 2s 2ms/step - loss: 0.1770 - accuracy: 0.7430\n",
            "Epoch 163/200\n",
            "804/804 [==============================] - 2s 2ms/step - loss: 0.1768 - accuracy: 0.7433\n",
            "Epoch 164/200\n",
            "804/804 [==============================] - 2s 2ms/step - loss: 0.1769 - accuracy: 0.7433\n",
            "Epoch 165/200\n",
            "804/804 [==============================] - 2s 2ms/step - loss: 0.1772 - accuracy: 0.7436\n",
            "Epoch 166/200\n",
            "804/804 [==============================] - 2s 2ms/step - loss: 0.1770 - accuracy: 0.7424\n",
            "Epoch 167/200\n",
            "804/804 [==============================] - 2s 2ms/step - loss: 0.1770 - accuracy: 0.7417\n",
            "Epoch 168/200\n",
            "804/804 [==============================] - 2s 2ms/step - loss: 0.1769 - accuracy: 0.7439\n",
            "Epoch 169/200\n",
            "804/804 [==============================] - 2s 2ms/step - loss: 0.1769 - accuracy: 0.7430\n",
            "Epoch 170/200\n",
            "804/804 [==============================] - 2s 2ms/step - loss: 0.1769 - accuracy: 0.7442\n",
            "Epoch 171/200\n",
            "804/804 [==============================] - 2s 2ms/step - loss: 0.1768 - accuracy: 0.7429\n",
            "Epoch 172/200\n",
            "804/804 [==============================] - 2s 2ms/step - loss: 0.1767 - accuracy: 0.7427\n",
            "Epoch 173/200\n",
            "804/804 [==============================] - 2s 2ms/step - loss: 0.1768 - accuracy: 0.7441\n",
            "Epoch 174/200\n",
            "804/804 [==============================] - 2s 2ms/step - loss: 0.1770 - accuracy: 0.7421\n",
            "Epoch 175/200\n",
            "804/804 [==============================] - 2s 2ms/step - loss: 0.1769 - accuracy: 0.7436\n",
            "Epoch 176/200\n",
            "804/804 [==============================] - 2s 2ms/step - loss: 0.1768 - accuracy: 0.7430\n",
            "Epoch 177/200\n",
            "804/804 [==============================] - 2s 2ms/step - loss: 0.1769 - accuracy: 0.7432\n",
            "Epoch 178/200\n",
            "804/804 [==============================] - 2s 2ms/step - loss: 0.1768 - accuracy: 0.7432\n",
            "Epoch 179/200\n",
            "804/804 [==============================] - 2s 2ms/step - loss: 0.1769 - accuracy: 0.7433\n",
            "Epoch 180/200\n",
            "804/804 [==============================] - 2s 2ms/step - loss: 0.1769 - accuracy: 0.7431\n",
            "Epoch 181/200\n",
            "804/804 [==============================] - 2s 2ms/step - loss: 0.1768 - accuracy: 0.7430\n",
            "Epoch 182/200\n",
            "804/804 [==============================] - 2s 2ms/step - loss: 0.1768 - accuracy: 0.7430\n",
            "Epoch 183/200\n",
            "804/804 [==============================] - 2s 2ms/step - loss: 0.1768 - accuracy: 0.7433\n",
            "Epoch 184/200\n",
            "804/804 [==============================] - 2s 2ms/step - loss: 0.1767 - accuracy: 0.7441\n",
            "Epoch 185/200\n",
            "804/804 [==============================] - 2s 2ms/step - loss: 0.1769 - accuracy: 0.7444\n",
            "Epoch 186/200\n",
            "804/804 [==============================] - 2s 2ms/step - loss: 0.1769 - accuracy: 0.7431\n",
            "Epoch 187/200\n",
            "804/804 [==============================] - 2s 2ms/step - loss: 0.1767 - accuracy: 0.7427\n",
            "Epoch 188/200\n",
            "804/804 [==============================] - 2s 2ms/step - loss: 0.1766 - accuracy: 0.7435\n",
            "Epoch 189/200\n",
            "804/804 [==============================] - 2s 2ms/step - loss: 0.1767 - accuracy: 0.7421\n",
            "Epoch 190/200\n",
            "804/804 [==============================] - 2s 2ms/step - loss: 0.1768 - accuracy: 0.7430\n",
            "Epoch 191/200\n",
            "804/804 [==============================] - 2s 2ms/step - loss: 0.1767 - accuracy: 0.7444\n",
            "Epoch 192/200\n",
            "804/804 [==============================] - 2s 2ms/step - loss: 0.1769 - accuracy: 0.7433\n",
            "Epoch 193/200\n",
            "804/804 [==============================] - 2s 2ms/step - loss: 0.1768 - accuracy: 0.7437\n",
            "Epoch 194/200\n",
            "804/804 [==============================] - 2s 2ms/step - loss: 0.1768 - accuracy: 0.7434\n",
            "Epoch 195/200\n",
            "804/804 [==============================] - 2s 2ms/step - loss: 0.1768 - accuracy: 0.7439\n",
            "Epoch 196/200\n",
            "804/804 [==============================] - 2s 2ms/step - loss: 0.1768 - accuracy: 0.7435\n",
            "Epoch 197/200\n",
            "804/804 [==============================] - 2s 2ms/step - loss: 0.1768 - accuracy: 0.7429\n",
            "Epoch 198/200\n",
            "804/804 [==============================] - 2s 2ms/step - loss: 0.1767 - accuracy: 0.7436\n",
            "Epoch 199/200\n",
            "804/804 [==============================] - 2s 2ms/step - loss: 0.1767 - accuracy: 0.7437\n",
            "Epoch 200/200\n",
            "804/804 [==============================] - 2s 2ms/step - loss: 0.1767 - accuracy: 0.7439\n"
          ]
        }
      ]
    },
    {
      "cell_type": "code",
      "source": [
        "# See if increasing epochs allowed the model to converge\n",
        "# Create a DataFrame with the history dictionary\n",
        "df_A3 = pd.DataFrame(fit_model_A3.history, index=range(1, len(fit_model_A3.history[\"loss\"]) + 1))\n",
        "\n",
        "# Plot the loss\n",
        "df_A3.plot(y=\"loss\")"
      ],
      "metadata": {
        "colab": {
          "base_uri": "https://localhost:8080/",
          "height": 282
        },
        "id": "Zsq-sX2PGbfr",
        "outputId": "d7434185-80b0-467e-cadc-c545639611fd"
      },
      "execution_count": 454,
      "outputs": [
        {
          "output_type": "execute_result",
          "data": {
            "text/plain": [
              "<matplotlib.axes._subplots.AxesSubplot at 0x7fdc95809d10>"
            ]
          },
          "metadata": {},
          "execution_count": 454
        },
        {
          "output_type": "display_data",
          "data": {
            "text/plain": [
              "<Figure size 432x288 with 1 Axes>"
            ],
            "image/png": "[encoded data removed]"
          },
          "metadata": {
            "needs_background": "light"
          }
        }
      ]
    },
    {
      "cell_type": "markdown",
      "metadata": {
        "id": "JkA48Z4hURsL"
      },
      "source": [
        "### Step 2: After finishing your models, display the accuracy scores achieved by each model, and compare the results."
      ]
    },
    {
      "cell_type": "code",
      "metadata": {
        "id": "RXhF6K8SURsL",
        "colab": {
          "base_uri": "https://localhost:8080/"
        },
        "outputId": "986bc913-9fdd-45d9-a8b9-d73da40414d6"
      },
      "source": [
        "print(\"Original Model Results\")\n",
        "\n",
        "# Evaluate the model loss and accuracy metrics using the evaluate method and the test data\n",
        "model_loss, model_accuracy = nn.evaluate(X_test_scaled, y_test, verbose=2)\n",
        "\n",
        "# Display the model loss and accuracy results\n",
        "print(f\"Loss: {model_loss}, Accuracy: {model_accuracy}\")"
      ],
      "execution_count": 455,
      "outputs": [
        {
          "output_type": "stream",
          "name": "stdout",
          "text": [
            "Original Model Results\n",
            "268/268 - 0s - loss: 0.5553 - accuracy: 0.7291 - 334ms/epoch - 1ms/step\n",
            "Loss: 0.5553061366081238, Accuracy: 0.7290962338447571\n"
          ]
        }
      ]
    },
    {
      "cell_type": "code",
      "metadata": {
        "id": "W52oclvkURsL",
        "colab": {
          "base_uri": "https://localhost:8080/"
        },
        "outputId": "41b093d6-46c9-4af9-b97e-b499e3229821"
      },
      "source": [
        "print(\"Alternative Model 1 Results\")\n",
        "\n",
        "# Evaluate the model loss and accuracy metrics using the evaluate method and the test data\n",
        "model_loss, model_accuracy = nn_A1.evaluate(X_test_scaled, y_test, verbose=2)\n",
        "\n",
        "# Display the model loss and accuracy results\n",
        "print(f\"Loss: {model_loss}, Accuracy: {model_accuracy}\")"
      ],
      "execution_count": 456,
      "outputs": [
        {
          "output_type": "stream",
          "name": "stdout",
          "text": [
            "Alternative Model 1 Results\n",
            "268/268 - 0s - loss: 0.6797 - accuracy: 0.7321 - 346ms/epoch - 1ms/step\n",
            "Loss: 0.679736852645874, Accuracy: 0.7321282625198364\n"
          ]
        }
      ]
    },
    {
      "cell_type": "code",
      "metadata": {
        "id": "4yPtU8_nURsL",
        "colab": {
          "base_uri": "https://localhost:8080/"
        },
        "outputId": "0fd476e8-1a92-4ea4-b8cc-b06a5323b8a6"
      },
      "source": [
        "print(\"Alternative Model 2 Results\")\n",
        "\n",
        "# Evaluate the model loss and accuracy metrics using the evaluate method and the test data\n",
        "model_loss, model_accuracy = nn_A2.evaluate(X_test_scaled, y_test, verbose=2)\n",
        "\n",
        "# Display the model loss and accuracy results\n",
        "print(f\"Loss: {model_loss}, Accuracy: {model_accuracy}\")"
      ],
      "execution_count": 457,
      "outputs": [
        {
          "output_type": "stream",
          "name": "stdout",
          "text": [
            "Alternative Model 2 Results\n",
            "268/268 - 0s - loss: 0.5703 - accuracy: 0.7300 - 360ms/epoch - 1ms/step\n",
            "Loss: 0.5702768564224243, Accuracy: 0.7300291657447815\n"
          ]
        }
      ]
    },
    {
      "cell_type": "code",
      "source": [
        "print(\"Alternative Model 3 Results\")\n",
        "\n",
        "# Evaluate the model loss and accuracy metrics using the evaluate method and the test data\n",
        "model_loss, model_accuracy = nn_A3.evaluate(X_test_scaled, y_test, verbose=2)\n",
        "\n",
        "# Display the model loss and accuracy results\n",
        "print(f\"Loss: {model_loss}, Accuracy: {model_accuracy}\")"
      ],
      "metadata": {
        "colab": {
          "base_uri": "https://localhost:8080/"
        },
        "id": "2Dteu6FmzGOD",
        "outputId": "83085d04-6a0d-4718-eda6-6d517b94481b"
      },
      "execution_count": 458,
      "outputs": [
        {
          "output_type": "stream",
          "name": "stdout",
          "text": [
            "Alternative Model 3 Results\n",
            "268/268 - 0s - loss: 0.1868 - accuracy: 0.7245 - 428ms/epoch - 2ms/step\n",
            "Loss: 0.18680702149868011, Accuracy: 0.7245481014251709\n"
          ]
        }
      ]
    },
    {
      "cell_type": "markdown",
      "source": [
        "#### Summary\n",
        "\n",
        "Several approached were explored to create a model that could effectively predict successful prospects for funding.  \n",
        "\n",
        "The first alternative model attempted to improve model performance by increasing the number of nodes in the hidden layers.  Increasing the size of the hidden layers did not appreciably improve the performance of the model.\n",
        "\n",
        "The second alternative model attempted to improve model performance by increasing the number of hidden layers.  Adding additional hidden layers also did not appreciably improve the performance of the model.\n",
        "\n",
        "It was noticed that 50 epochs might not have been sufficient to allow the first two alternative models to converge.  In third alternative model, a higher number of epochs was used.  In addition, an alternative set of activation functions and loss functions were used.  Despite these changes, the performance of the third model was also not appreciably better than the original model.  In fact, the precision was slightly lower than the original model. \n",
        "\n",
        "| Model | Layers | Trainable Nodes | Loss | Accuracy |\n",
        "|-------|--------|-----------------|---------|--------|\n",
        "| original | 3 | 8,529 | 0.5553 | 0.7291 |\n",
        "| alt 1 | 3 | 62,721 | 0.6797 | 0.7321 |\n",
        "| alt 2 | 6 | 73,473 | 0.5703 | 0.7300 |\n",
        "| alt 3 | 6 | 8,699 | 0.1868 | 0.7245 |"
      ],
      "metadata": {
        "id": "i-z-zm__C3hI"
      }
    },
    {
      "cell_type": "markdown",
      "metadata": {
        "id": "eQ3b2y7OURsM"
      },
      "source": [
        "### Step 3: Save each of your alternative models as an HDF5 file.\n"
      ]
    },
    {
      "cell_type": "code",
      "metadata": {
        "id": "a1tXiNBZURsM"
      },
      "source": [
        "# Set the file path for the first alternative model\n",
        "file_path = 'AlphabetSoup_Alt1.h5'\n",
        "\n",
        "# Export your model to a HDF5 file\n",
        "nn_A1.save(file_path)"
      ],
      "execution_count": 459,
      "outputs": []
    },
    {
      "cell_type": "code",
      "metadata": {
        "id": "W9KTZW35URsM"
      },
      "source": [
        "# Set the file path for the second alternative model\n",
        "file_path = 'AlphabetSoup_Alt2.h5'\n",
        "\n",
        "# Export your model to a HDF5 file\n",
        "nn_A2.save(file_path)\n"
      ],
      "execution_count": 460,
      "outputs": []
    },
    {
      "cell_type": "code",
      "metadata": {
        "id": "IiQ2lyQuURsM"
      },
      "source": [
        "# Set the file path for the third alternative model\n",
        "file_path = 'AlphabetSoup_Alt3.h5'\n",
        "\n",
        "# Export your model to a HDF5 file\n",
        "nn_A3.save(file_path)"
      ],
      "execution_count": 461,
      "outputs": []
    }
  ]
}